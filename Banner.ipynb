{
 "cells": [
  {
   "cell_type": "code",
   "execution_count": 1,
   "id": "294830e6",
   "metadata": {},
   "outputs": [
    {
     "name": "stdout",
     "output_type": "stream",
     "text": [
      "Requirement already satisfied: bs4 in c:\\users\\admin\\anaconda3\\lib\\site-packages (0.0.1)\n",
      "Requirement already satisfied: beautifulsoup4 in c:\\users\\admin\\anaconda3\\lib\\site-packages (from bs4) (4.10.0)\n",
      "Requirement already satisfied: soupsieve>1.2 in c:\\users\\admin\\anaconda3\\lib\\site-packages (from beautifulsoup4->bs4) (2.2.1)\n",
      "Note: you may need to restart the kernel to use updated packages.\n"
     ]
    }
   ],
   "source": [
    "pip install bs4"
   ]
  },
  {
   "cell_type": "markdown",
   "id": "ec924b37",
   "metadata": {},
   "source": [
    "# Import Libraries and Modules"
   ]
  },
  {
   "cell_type": "code",
   "execution_count": 2,
   "id": "c0d0e2cc",
   "metadata": {},
   "outputs": [],
   "source": [
    "import numpy as np\n",
    "# numpy perform a number of mathematical operations on arrays such as trigonometric, statistical, and algebraic routines\n",
    "\n",
    "import pandas as pd\n",
    "# pandas is used to analyze data\n",
    "\n",
    "import requests\n",
    "# requests module allows you to send HTTP requests using Python\n",
    "\n",
    "from bs4 import BeautifulSoup\n",
    "# Beautiful Soup is a library that makes it easy to scrape information from web pages\n",
    "# BeautifulSoup's current version bs4, is a web scraping library\n",
    "\n",
    "from time import sleep\n",
    "#The sleep() function suspends execution of the current thread for a given number of seconds\n",
    "\n",
    "from random import randint\n",
    "#The randint Python function is a built-in method that lets you generate random integers using the random module\n",
    "\n",
    "\n",
    "# Importing the PIL library\n",
    "from PIL import Image\n",
    "from PIL import ImageDraw\n",
    "import requests\n",
    "from bs4 import BeautifulSoup as soup\n",
    "from urllib.request import urlopen as uReq\n",
    "\n",
    "#"
   ]
  },
  {
   "cell_type": "markdown",
   "id": "3081636a",
   "metadata": {},
   "source": [
    "# 1.Create a Banner"
   ]
  },
  {
   "cell_type": "code",
   "execution_count": 3,
   "id": "31805347",
   "metadata": {},
   "outputs": [],
   "source": [
    "url = \"https://yoshops.com/\"\n",
    "uClient = uReq(url)\n",
    "page_html = uClient.read()\n",
    "uClient.close()\n",
    "page_soup = soup(page_html,\"html.parser\")"
   ]
  },
  {
   "cell_type": "code",
   "execution_count": 4,
   "id": "5e52e207",
   "metadata": {},
   "outputs": [],
   "source": [
    "containers = page_soup.findAll(\"div\", {\"class\":\"col-sm-3 col-xs-6\"})"
   ]
  },
  {
   "cell_type": "code",
   "execution_count": 5,
   "id": "b9146a16",
   "metadata": {},
   "outputs": [
    {
     "name": "stdout",
     "output_type": "stream",
     "text": [
      "<div class=\"col-sm-3 col-xs-6\">\n",
      " <div class=\"product\">\n",
      "  <a class=\"product-link\" href=\"/products/hammer-sting-lite-in-ear-wireless-bluetooth-neckband-earphones-black\">\n",
      "   <div class=\"product-thumb\">\n",
      "    <div class=\"product-thumb-inner\">\n",
      "     <img alt=\"Hammer Sting Lite In-Ear Wireless Bluetooth Neckband Earphones Black\" src=\"https://isteam.wsimg.com/ip/a8efe83b-6857-477d-9d0f-f13ca0229a20/ols/3871_original/:/rs=w:600,h:600\"/>\n",
      "    </div>\n",
      "   </div>\n",
      "   <span class=\"product-title\" href=\"/products/hammer-sting-lite-in-ear-wireless-bluetooth-neckband-earphones-black\">\n",
      "    Hammer Sting Lite In-Ear Wireless Bluetooth Neckband Earphones Black\n",
      "   </span>\n",
      "  </a>\n",
      "  <div class=\"product-price\" data-on-sale=\"true\">\n",
      "   <span>\n",
      "    <span class=\"rupee\">\n",
      "     ₹\n",
      "    </span>\n",
      "    3,495.00\n",
      "   </span>\n",
      "   <span>\n",
      "    <span class=\"rupee\">\n",
      "     ₹\n",
      "    </span>\n",
      "    699.00\n",
      "   </span>\n",
      "  </div>\n",
      "  <div class=\"free-shipping\">\n",
      "   <div class=\"ship-table\">\n",
      "    <svg enable-background=\"new 6.943 12.685 20 14\" id=\"Layer_1\" version=\"1.1\" viewbox=\"6.943 12.685 20 14\" x=\"0px\" xml:space=\"preserve\" xmlns=\"http://www.w3.org/2000/svg\" xmlns:xlink=\"http://www.w3.org/1999/xlink\" y=\"0px\">\n",
      "     <path d=\"M39.451,34.034c0,2.032-1.578,3.61-3.611,3.61s-3.611-1.578-3.611-3.61\n",
      "      s1.578-3.611,3.611-3.611S39.451,32.002,39.451,34.034z M35.612,32.002c-1.13,0-1.806,0.902-1.806,1.805s0.902,1.806,1.806,1.806\n",
      "      c1.13,0,1.806-0.903,1.806-1.806S36.742,32.002,35.612,32.002z\" display=\"none\">\n",
      "     </path>\n",
      "     <rect display=\"none\" height=\"15.581\" width=\"20.322\" x=\"6.938\" y=\"13.03\">\n",
      "     </rect>\n",
      "     <path d=\"M17.999,33.58c0,2.032-1.578,3.61-3.611,3.61s-3.611-1.578-3.611-3.61\n",
      "      c0-2.033,1.579-3.611,3.611-3.611S17.999,31.547,17.999,33.58z M14.388,31.773c-1.13,0-1.806,0.903-1.806,1.807\n",
      "      c0,0.902,0.903,1.805,1.806,1.805s1.806-0.902,1.806-1.805C16.193,32.677,15.291,31.773,14.388,31.773z\" display=\"none\">\n",
      "     </path>\n",
      "     <path d=\"M28.384,34.255V19.356V17.55h8.358c0,0,6.32,0.455,6.32,6.32v8.579l-1.357,1.578h-0.903\n",
      "      c0,0,0.454-5.644-5.417-5.644c0,0-5.195-0.228-5.195,5.644h-1.806V34.255z M37.19,19.804c-2.708,0-4.065,0-4.065,0v3.384h5.645\n",
      "      h1.805C40.581,23.194,39.678,19.804,37.19,19.804z\" display=\"none\">\n",
      "     </path>\n",
      "     <path d=\"M6.938,29.969h3.611c0,0-1.806,1.805-1.578,4.293H6.938V29.969z\" display=\"none\">\n",
      "     </path>\n",
      "     <path d=\"M27.26,29.969h-9.034c0,0,1.806,1.805,1.578,4.293h7.45v-4.293H27.26z\" display=\"none\">\n",
      "     </path>\n",
      "     <path d=\"M10.976,22.635c1.119,0,2.025,0.907,2.025,2.026c0,1.119-0.906,2.025-2.025,2.025c-1.118,0-2.029-0.902-2.029-2.025\n",
      "      C8.946,23.542,9.857,22.635,10.976,22.635z M9.927,24.661c0,0.578,0.468,1.048,1.049,1.048c0.582,0,1.049-0.466,1.049-1.048\n",
      "      c0-0.578-0.468-1.05-1.049-1.05C10.395,23.611,9.927,24.083,9.927,24.661z\">\n",
      "     </path>\n",
      "     <rect height=\"8.974\" width=\"11.24\" x=\"15.703\" y=\"12.685\">\n",
      "     </rect>\n",
      "     <path d=\"M22.857,22.635c1.119,0,2.026,0.907,2.026,2.026c0,1.119-0.907,2.025-2.026,2.025c-1.118,0-2.026-0.906-2.026-2.025\n",
      "      C20.832,23.542,21.739,22.635,22.857,22.635z M21.808,24.661c0,0.577,0.467,1.048,1.049,1.048c0.577,0,1.05-0.468,1.05-1.048\n",
      "      c0-0.581-0.469-1.05-1.05-1.05C22.279,23.611,21.808,24.08,21.808,24.661z\">\n",
      "     </path>\n",
      "     <path d=\"M13.956,24.813c0-3.235-2.863-3.155-2.863-3.155c-3.294,0-2.979,3.155-2.979,3.155H7.682l-0.738-0.936v-4.77\n",
      "      c0-3.254,3.469-3.565,3.469-3.565h4.6v0.995v8.28h-1.057V24.813z M8.318,18.658h0.955h3.155v-1.89c0,0-0.684,0-2.219,0\n",
      "      C8.727,16.771,8.318,18.658,8.318,18.658z\">\n",
      "     </path>\n",
      "     <path d=\"M26.943,22.416h-1.959c0,0,1.032,1.005,0.853,2.409h1.106V22.416z\">\n",
      "     </path>\n",
      "     <path d=\"M15.703,22.416h5.009c0,0-1.032,1.005-0.852,2.409h-4.157V22.416z\">\n",
      "     </path>\n",
      "    </svg>\n",
      "    <span>\n",
      "     Free Shipping!\n",
      "    </span>\n",
      "   </div>\n",
      "  </div>\n",
      "  <div class=\"review-wrapper\">\n",
      "   <div class=\"single-product-review\">\n",
      "    <div class=\"yotpo bottomLine\" data-appkey=\"blvTZfFxLLY4ORJETmn8JsqzVHfudrJxLDPnwDXb\" data-domain=\"https://yoshops.com\" data-image-url=\"https%3A%2F%2Fisteam.wsimg.com%2Fip%2Fa8efe83b-6857-477d-9d0f-f13ca0229a20%2Fols%2F3871_original%2F%3A%2Frs%3Dw%3A600%2Ch%3A600\" data-name=\"Hammer Sting Lite In-Ear Wireless Bluetooth Neckband Earphones Black\" data-product-id=\"550\" data-url=\"https%3A%2F%2Fyoshops.com%2Fproducts%2Fhammer-sting-lite-in-ear-wireless-bluetooth-neckband-earphones-black\" style=\"display:inline-block; width:auto;\">\n",
      "    </div>\n",
      "   </div>\n",
      "  </div>\n",
      " </div>\n",
      "</div>\n",
      "\n"
     ]
    }
   ],
   "source": [
    "print(soup.prettify(containers[1]))"
   ]
  },
  {
   "cell_type": "code",
   "execution_count": 6,
   "id": "ba154701",
   "metadata": {},
   "outputs": [],
   "source": [
    "container =  containers[1]"
   ]
  },
  {
   "cell_type": "code",
   "execution_count": 7,
   "id": "0c721c78",
   "metadata": {},
   "outputs": [
    {
     "name": "stdout",
     "output_type": "stream",
     "text": [
      "https://isteam.wsimg.com/ip/a8efe83b-6857-477d-9d0f-f13ca0229a20/ols/3871_original/:/rs=w:600,h:600\n"
     ]
    }
   ],
   "source": [
    "image_link = container.div.a.div.div.img['src']\n",
    "print(image_link)"
   ]
  },
  {
   "cell_type": "code",
   "execution_count": 8,
   "id": "e51f96ad",
   "metadata": {},
   "outputs": [],
   "source": [
    "import requests\n",
    "from PIL import Image,ImageFont, ImageDraw\n",
    "\n",
    "im = Image.open(requests.get(image_link, stream=True).raw)\n",
    "im.save(\"task4_img.jpg\")"
   ]
  },
  {
   "cell_type": "code",
   "execution_count": 9,
   "id": "9740a15c",
   "metadata": {},
   "outputs": [
    {
     "name": "stdout",
     "output_type": "stream",
     "text": [
      "Hammer Sting Lite In-Ear Wireless Bluetooth Neckband Earphones Black\n"
     ]
    }
   ],
   "source": [
    "product_name = container.div.a.div.div.img['alt']\n",
    "print(product_name)"
   ]
  },
  {
   "cell_type": "code",
   "execution_count": 10,
   "id": "a6f8c46e",
   "metadata": {},
   "outputs": [
    {
     "name": "stdout",
     "output_type": "stream",
     "text": [
      "₹3,495.00₹699.00\n"
     ]
    }
   ],
   "source": [
    "price = container.findAll(\"div\",{\"class\":\"product-price\"})\n",
    "print(price[0].text)"
   ]
  },
  {
   "cell_type": "code",
   "execution_count": 11,
   "id": "c22e9bbf",
   "metadata": {},
   "outputs": [
    {
     "name": "stdout",
     "output_type": "stream",
     "text": [
      "['', '3,495.00', '699.00']\n"
     ]
    }
   ],
   "source": [
    "mix_price=price[0].text.split('₹')\n",
    "print(mix_price)"
   ]
  },
  {
   "cell_type": "code",
   "execution_count": 12,
   "id": "97f8cfcb",
   "metadata": {},
   "outputs": [
    {
     "name": "stdout",
     "output_type": "stream",
     "text": [
      "The old price is: ₹3,495.00\n"
     ]
    }
   ],
   "source": [
    "old_price = 'The old price is'+':'+' '+'₹' + mix_price[1]\n",
    "print(old_price)"
   ]
  },
  {
   "cell_type": "code",
   "execution_count": 13,
   "id": "73eb7c15",
   "metadata": {},
   "outputs": [
    {
     "name": "stdout",
     "output_type": "stream",
     "text": [
      "The discounted new price is: ₹699.00\n"
     ]
    }
   ],
   "source": [
    "new_price = 'The discounted new price is'+':'+' '+'₹' + mix_price[2]\n",
    "print(new_price)"
   ]
  },
  {
   "cell_type": "code",
   "execution_count": 14,
   "id": "3af81b4a",
   "metadata": {},
   "outputs": [],
   "source": [
    "# Open an Image\n",
    "img = Image.open('banner2.jpg')"
   ]
  },
  {
   "cell_type": "code",
   "execution_count": 15,
   "id": "b8cd6b8b",
   "metadata": {},
   "outputs": [],
   "source": [
    "# Call draw Method to add 2D graphics in an image\n",
    "I1 = ImageDraw.Draw(img)"
   ]
  },
  {
   "cell_type": "code",
   "execution_count": 16,
   "id": "de7bd614",
   "metadata": {},
   "outputs": [],
   "source": [
    "# Add product name to banner\n",
    "font = ImageFont.truetype(\"arial.ttf\",50)\n",
    "I1.text((50,50), product_name, fill=(255, 0, 255),font=font)"
   ]
  },
  {
   "cell_type": "code",
   "execution_count": 17,
   "id": "67922fe2",
   "metadata": {},
   "outputs": [],
   "source": [
    "# Add old price to banner\n",
    "font = ImageFont.truetype(\"arial.ttf\",50)\n",
    "I1.text((1000, 150), old_price, fill=(255, 255, 255),font=font)"
   ]
  },
  {
   "cell_type": "code",
   "execution_count": 18,
   "id": "68f175fe",
   "metadata": {},
   "outputs": [],
   "source": [
    "# Add new price to banner\n",
    "font = ImageFont.truetype(\"arial.ttf\",50)\n",
    "I1.text((1000, 220), new_price, fill=(255, 255, 255),font=font)"
   ]
  },
  {
   "cell_type": "code",
   "execution_count": 19,
   "id": "01ebbea1",
   "metadata": {},
   "outputs": [],
   "source": [
    "# Add tag to banner\n",
    "font = ImageFont.truetype(\"arial.ttf\",100)\n",
    "I1.text((800, 290), 'Sale! Sale! Sale! Sale!', fill=(0,255, 255),font=font)"
   ]
  },
  {
   "cell_type": "code",
   "execution_count": 20,
   "id": "bad0cc3c",
   "metadata": {},
   "outputs": [],
   "source": [
    "# Opening the secondary image (overlay image)\n",
    "img2 = Image.open(\"task4_img.jpg\")\n",
    "img3 = Image.open(\"yo3.jpg\")\n",
    "# Pasting img2 image on top of img1 \n",
    "img.paste(img2, (150,150))\n",
    "img.paste(img3, (1650,420)) \n",
    "# Displaying the image\n",
    "img.show()\n",
    "img.save(\"banner.jpg\")"
   ]
  },
  {
   "cell_type": "code",
   "execution_count": null,
   "id": "f54fd40f",
   "metadata": {},
   "outputs": [],
   "source": []
  }
 ],
 "metadata": {
  "kernelspec": {
   "display_name": "Python 3 (ipykernel)",
   "language": "python",
   "name": "python3"
  },
  "language_info": {
   "codemirror_mode": {
    "name": "ipython",
    "version": 3
   },
   "file_extension": ".py",
   "mimetype": "text/x-python",
   "name": "python",
   "nbconvert_exporter": "python",
   "pygments_lexer": "ipython3",
   "version": "3.9.7"
  }
 },
 "nbformat": 4,
 "nbformat_minor": 5
}
