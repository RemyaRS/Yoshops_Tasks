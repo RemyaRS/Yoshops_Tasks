{
 "cells": [
  {
   "cell_type": "markdown",
   "id": "e2b0223e",
   "metadata": {},
   "source": [
    "# Task 6:\n",
    "Automation : Products Review reply Automation Validation\n",
    "Write a python programm to reply review in product page where customers write  feedback on Products .\n",
    "\n",
    "Input value link = Yoshops.com\n",
    "Output = create excel file with  web url, Products name, Products Details, products review, customer name and customer email id columns."
   ]
  },
  {
   "cell_type": "code",
   "execution_count": 1,
   "id": "d67a956d",
   "metadata": {},
   "outputs": [
    {
     "name": "stderr",
     "output_type": "stream",
     "text": [
      "C:\\Users\\Admin\\AppData\\Local\\Temp/ipykernel_10364/1978365326.py:7: DeprecationWarning: executable_path has been deprecated, please pass in a Service object\n",
      "  browser = webdriver.Chrome(executable_path=\"C:/chromedriver/chromedriver\")\n"
     ]
    }
   ],
   "source": [
    "# if selenium is used for the first time -- use -- pip install selenium\n",
    "#its a package used for automation\n",
    "\n",
    "from selenium import webdriver\n",
    "# To interact with chrome webdriver is used\n",
    "\n",
    "browser = webdriver.Chrome(executable_path=\"C:/chromedriver/chromedriver\")\n",
    "# To open chrome window, an instance is made"
   ]
  },
  {
   "cell_type": "code",
   "execution_count": 2,
   "id": "26b46c58",
   "metadata": {},
   "outputs": [],
   "source": [
    "browser.get(\"https://yoshops.com/\")\n",
    "# The url to be accessed is mentioned"
   ]
  },
  {
   "cell_type": "code",
   "execution_count": 3,
   "id": "2c9ca65a",
   "metadata": {},
   "outputs": [],
   "source": [
    "from selenium.webdriver.common.by import By\n",
    "# By module is imported to acsess search button"
   ]
  },
  {
   "cell_type": "code",
   "execution_count": 4,
   "id": "ec574460",
   "metadata": {},
   "outputs": [],
   "source": [
    "product_names = browser.find_elements(By.XPATH,\"//span[contains(@class, 'product-title')]\")"
   ]
  },
  {
   "cell_type": "code",
   "execution_count": 5,
   "id": "31c1fe00",
   "metadata": {},
   "outputs": [],
   "source": [
    "item_name = []\n",
    "old_price = []\n",
    "discounted_price = []"
   ]
  },
  {
   "cell_type": "code",
   "execution_count": 6,
   "id": "1c8dd62a",
   "metadata": {},
   "outputs": [
    {
     "name": "stdout",
     "output_type": "stream",
     "text": [
      "Hammer Airflow True Wireless Earbuds (Blue), 5 Hours Playtime, with Magnetic Charging case (300mah),Built-in Voice Assistant & Bluetooth 5.0\n",
      "Hammer Sting Lite In-Ear Wireless Bluetooth Neckband Earphones Black\n",
      "Candytech H111i Supersonic Bass earphone Wired Headset With Mic\n",
      "Boat Rockerz 530 Foldable Bluetooth Headphone with Mic (Carbon Black)\n",
      "WS887 Mini Wireless Bluetooth Speaker\n",
      "Mini VR BOX Virtual Reality Headsets with ultra 3D glasses Compatible with Android and IOS Devices (Blue, Black)\n",
      "Reliance Jio Phone\n",
      "Vmax HX 750 Quadcopter Drone (No Camera)\n",
      "Avengers Captain America Drone Four Axis Aircraft with 2.4 GHz Without Camera\n",
      "Olifair Pearls Saffron and Radiant Effect Night Cream 50 ml(Riya Fruity Soap Free)\n",
      "Sony PlayStation PS2 Gaming Console 150 GB Hard Disk With 50 Games Preloaded(Black)\n",
      "BBA Online Class Live Tuition Training Program with Internship\n"
     ]
    }
   ],
   "source": [
    "for product in product_names:\n",
    "    print(product.text)\n",
    "    item_name.append(product.text)\n"
   ]
  },
  {
   "cell_type": "code",
   "execution_count": 7,
   "id": "27e94665",
   "metadata": {},
   "outputs": [
    {
     "name": "stdout",
     "output_type": "stream",
     "text": [
      "4,475.00\n",
      "3,495.00\n",
      "456.00\n",
      "999.00\n",
      "999.00\n",
      "1,487.00\n",
      "1,999.00\n",
      "4,000.00\n",
      "4,678.00\n",
      "2,232.00\n",
      "12,289.00\n",
      "6,500.00\n"
     ]
    }
   ],
   "source": [
    "price = browser.find_elements(By.XPATH,\"//div[contains(@class, 'product-price')]\")\n",
    "for tx in price:\n",
    "    print(tx.text.split('₹')[1])\n",
    "    old_price.append(tx.text.split('₹')[1])"
   ]
  },
  {
   "cell_type": "code",
   "execution_count": 8,
   "id": "ea328802",
   "metadata": {},
   "outputs": [
    {
     "name": "stdout",
     "output_type": "stream",
     "text": [
      "799.00\n",
      "699.00\n",
      "299.00\n",
      "799.00\n",
      "399.00\n",
      "349.00\n",
      "1,499.00\n",
      "1,499.00\n",
      "2,299.00\n",
      "999.00\n",
      "8,999.00\n",
      "999.00\n"
     ]
    }
   ],
   "source": [
    "price = browser.find_elements(By.XPATH,\"//div[contains(@class, 'product-price')]\")\n",
    "for tx in price:\n",
    "    print(tx.text.split('₹')[2])\n",
    "    discounted_price.append(tx.text.split('₹')[2])"
   ]
  },
  {
   "cell_type": "code",
   "execution_count": 9,
   "id": "aea7f63b",
   "metadata": {},
   "outputs": [
    {
     "data": {
      "text/plain": [
       "['799.00',\n",
       " '699.00',\n",
       " '299.00',\n",
       " '799.00',\n",
       " '399.00',\n",
       " '349.00',\n",
       " '1,499.00',\n",
       " '1,499.00',\n",
       " '2,299.00',\n",
       " '999.00',\n",
       " '8,999.00',\n",
       " '999.00']"
      ]
     },
     "execution_count": 9,
     "metadata": {},
     "output_type": "execute_result"
    }
   ],
   "source": [
    "discounted_price"
   ]
  },
  {
   "cell_type": "code",
   "execution_count": 10,
   "id": "bd4a8f40",
   "metadata": {},
   "outputs": [],
   "source": [
    "import pandas as pd"
   ]
  },
  {
   "cell_type": "code",
   "execution_count": 11,
   "id": "ad4c1c6b",
   "metadata": {},
   "outputs": [
    {
     "name": "stdout",
     "output_type": "stream",
     "text": [
      "                                         Product Name Old Price in ₹  \\\n",
      "0   Hammer Airflow True Wireless Earbuds (Blue), 5...       4,475.00   \n",
      "1   Hammer Sting Lite In-Ear Wireless Bluetooth Ne...       3,495.00   \n",
      "2   Candytech H111i Supersonic Bass earphone Wired...         456.00   \n",
      "3   Boat Rockerz 530 Foldable Bluetooth Headphone ...         999.00   \n",
      "4               WS887 Mini Wireless Bluetooth Speaker         999.00   \n",
      "5   Mini VR BOX Virtual Reality Headsets with ultr...       1,487.00   \n",
      "6                                  Reliance Jio Phone       1,999.00   \n",
      "7            Vmax HX 750 Quadcopter Drone (No Camera)       4,000.00   \n",
      "8   Avengers Captain America Drone Four Axis Aircr...       4,678.00   \n",
      "9   Olifair Pearls Saffron and Radiant Effect Nigh...       2,232.00   \n",
      "10  Sony PlayStation PS2 Gaming Console 150 GB Har...      12,289.00   \n",
      "11  BBA Online Class Live Tuition Training Program...       6,500.00   \n",
      "\n",
      "   Discounted Price in ₹  \n",
      "0                 799.00  \n",
      "1                 699.00  \n",
      "2                 299.00  \n",
      "3                 799.00  \n",
      "4                 399.00  \n",
      "5                 349.00  \n",
      "6               1,499.00  \n",
      "7               1,499.00  \n",
      "8               2,299.00  \n",
      "9                 999.00  \n",
      "10              8,999.00  \n",
      "11                999.00  \n"
     ]
    }
   ],
   "source": [
    "df1 = pd.DataFrame(list(zip(item_name,old_price,discounted_price)),\n",
    "               columns =['Product Name', 'Old Price in ₹', 'Discounted Price in ₹'])\n",
    "print(df1)"
   ]
  },
  {
   "cell_type": "code",
   "execution_count": 12,
   "id": "2c5daec7",
   "metadata": {},
   "outputs": [],
   "source": [
    "#browser.find_element(By.LINK_TEXT,item_name[0]).click()\n",
    "browser.get(\"https://yoshops.com\"+\"/products/hammer-airflow-true-wireless-earbuds-blue-5-hours-playtime-with-magnetic-charging-case-300mah-built-in-voice-assistant-bluetooth-5-0\")"
   ]
  },
  {
   "cell_type": "code",
   "execution_count": 13,
   "id": "179e381f",
   "metadata": {},
   "outputs": [
    {
     "data": {
      "text/plain": [
       "'Cash On Delivery Available-Free Shipping Available-Free One Gift Available(Wired Headset With Mic)-Use Coupon Code for 5% Discount:  Neha@gift  -Product Details:-Model Name: Airflow TWS with Mic-Brand: Hammer-Manufacturer HAMMER, Mail- info@hammeronline.in, Mob- 9991108081-Model AIRFLOW-Model Name Airflow-Product Dimensions 0.4 x 0.4 x 0.7 cm; 40 Grams-Batteries 1 Lithium Polymer batteries required. (included)'"
      ]
     },
     "execution_count": 13,
     "metadata": {},
     "output_type": "execute_result"
    }
   ],
   "source": [
    "product_details = browser.find_elements(By.XPATH,\"//font[contains(@color, '#000000')]\")\n",
    "item_details=[]\n",
    "for details in product_details:\n",
    "    item_details.append(details.text) \n",
    "while '' in item_details:\n",
    "    item_details.remove('')\n",
    "item_details1='-'.join(item_details)\n",
    "item_details1"
   ]
  },
  {
   "cell_type": "code",
   "execution_count": 17,
   "id": "0093c32a",
   "metadata": {},
   "outputs": [],
   "source": [
    "## import Action chains \n",
    "from selenium.webdriver.common.action_chains import ActionChains\n",
    "button = browser.find_element(By.XPATH, \"//div[@class='yotpo-regular-box yotpo-bottomline yotpo-bottomline-2-boxes yotpo-bottomline-empty-state']/div[3]/span[2][contains(text(),'write a review')]\")\n",
    "ActionChains(browser).move_to_element(button).click().perform()"
   ]
  },
  {
   "cell_type": "code",
   "execution_count": 18,
   "id": "32b1d73a",
   "metadata": {},
   "outputs": [],
   "source": [
    "star_button1 = browser.find_element(By.XPATH, \"//*[@data-score='5']\")\n",
    "ActionChains(browser).move_to_element(star_button1).click().perform()"
   ]
  },
  {
   "cell_type": "code",
   "execution_count": 19,
   "id": "dca2c448",
   "metadata": {},
   "outputs": [],
   "source": [
    "title = browser.find_element(\"name\",'review_title')\n",
    "# To fetch input so as to place the review title"
   ]
  },
  {
   "cell_type": "code",
   "execution_count": 20,
   "id": "9aa90587",
   "metadata": {},
   "outputs": [],
   "source": [
    "title.send_keys('Thank You')\n",
    "# Here term to be written is mentioned"
   ]
  },
  {
   "cell_type": "code",
   "execution_count": 21,
   "id": "460c129f",
   "metadata": {},
   "outputs": [],
   "source": [
    "write_review = browser.find_element(\"name\",'review_content')\n",
    "# To fetch input so as to place the review content"
   ]
  },
  {
   "cell_type": "code",
   "execution_count": 22,
   "id": "02667785",
   "metadata": {},
   "outputs": [],
   "source": [
    "write_review.send_keys('Thank You for Your Review')\n",
    "# Here term to be written is mentioned"
   ]
  },
  {
   "cell_type": "code",
   "execution_count": 23,
   "id": "4a12c06e",
   "metadata": {},
   "outputs": [],
   "source": [
    "write_name = browser.find_element(\"name\",'display_name')\n",
    "# To fetch input so as to place the name"
   ]
  },
  {
   "cell_type": "code",
   "execution_count": 24,
   "id": "ff39546f",
   "metadata": {},
   "outputs": [],
   "source": [
    "write_name.send_keys('Remya')\n",
    "# Here term to be written is mentioned"
   ]
  },
  {
   "cell_type": "code",
   "execution_count": 25,
   "id": "3eb640dc",
   "metadata": {},
   "outputs": [],
   "source": [
    "write_mailid = browser.find_element(\"name\",'email')\n",
    "# To fetch input so as to place the review content"
   ]
  },
  {
   "cell_type": "code",
   "execution_count": 26,
   "id": "3fba6b9e",
   "metadata": {},
   "outputs": [],
   "source": [
    "write_mailid.send_keys('remyarish@gmail.com')\n",
    "# Here term to be written is mentioned"
   ]
  },
  {
   "cell_type": "code",
   "execution_count": 96,
   "id": "00abc37c",
   "metadata": {},
   "outputs": [],
   "source": [
    "post_button = browser.find_element(By.XPATH, \"//*[@class='form-element submit-button']\")\n",
    "ActionChains(browser).move_to_element(post_button).click().perform()\n",
    "#ActionChains(browser).move_to_element(post_button).click().perform()"
   ]
  },
  {
   "cell_type": "code",
   "execution_count": 97,
   "id": "2c5dd11f",
   "metadata": {},
   "outputs": [
    {
     "data": {
      "text/plain": [
       "'Remya-kriti'"
      ]
     },
     "execution_count": 97,
     "metadata": {},
     "output_type": "execute_result"
    }
   ],
   "source": [
    "reviewer = browser.find_elements(By.XPATH,\"//span[contains(@class, 'y-label yotpo-user-name yotpo-font-bold pull-left')]\")\n",
    "reviewer_name = []\n",
    "for details in reviewer:\n",
    "    reviewer_name.append(details.text) \n",
    "while '' in reviewer_name:\n",
    "    reviewer_name.remove('')\n",
    "reviewer_name1='-'.join(reviewer_name)\n",
    "reviewer_name1"
   ]
  },
  {
   "cell_type": "code",
   "execution_count": 30,
   "id": "1c59dc54",
   "metadata": {},
   "outputs": [
    {
     "data": {
      "text/plain": [
       "'-Thank You for Your Review-Awesome--'"
      ]
     },
     "execution_count": 30,
     "metadata": {},
     "output_type": "execute_result"
    }
   ],
   "source": [
    "product_reviews = browser.find_elements(By.XPATH,\"//div[contains(@class, 'content-review')]\")\n",
    "item_reviews=[]\n",
    "for reviews in product_reviews:\n",
    "    item_reviews.append(reviews.text) \n",
    "item_reviews1='-'.join(item_reviews)\n",
    "item_reviews1"
   ]
  },
  {
   "cell_type": "code",
   "execution_count": 31,
   "id": "eac0a626",
   "metadata": {},
   "outputs": [],
   "source": [
    "#browser.find_element(By.LINK_TEXT,item_name[1]).click()\n",
    "browser.get(\"https://yoshops.com\"+\"/products/hammer-sting-lite-in-ear-wireless-bluetooth-neckband-earphones-black\")"
   ]
  },
  {
   "cell_type": "code",
   "execution_count": 32,
   "id": "b97c6e12",
   "metadata": {},
   "outputs": [
    {
     "data": {
      "text/plain": [
       "'Cash On Delivery Available-Free Shipping Available-Free One Gift Available(Wired Headset With Mic)-Use Coupon Code for 5% Discount:  Neha@gift  -Product Details:-Model Name: Sting Lite-Color: Black-Headphone Type: Neckband-Connectivity: Bluetooth-Headphone Design: Behind the Neck-Accessories :USB Charging Cable-Sweat Proof: Yes'"
      ]
     },
     "execution_count": 32,
     "metadata": {},
     "output_type": "execute_result"
    }
   ],
   "source": [
    "product_details = browser.find_elements(By.XPATH,\"//font[contains(@color, '#000000')]\")\n",
    "item_details=[]\n",
    "for details in product_details:\n",
    "    item_details.append(details.text) \n",
    "while '' in item_details:\n",
    "    item_details.remove('')\n",
    "item_details2='-'.join(item_details)\n",
    "item_details2"
   ]
  },
  {
   "cell_type": "code",
   "execution_count": 33,
   "id": "a9d4eb95",
   "metadata": {},
   "outputs": [
    {
     "data": {
      "text/plain": [
       "'Kritika-Tak-Kritika'"
      ]
     },
     "execution_count": 33,
     "metadata": {},
     "output_type": "execute_result"
    }
   ],
   "source": [
    "reviewer = browser.find_elements(By.XPATH,\"//span[contains(@class, 'y-label yotpo-user-name yotpo-font-bold pull-left')]\")\n",
    "reviewer_name = []\n",
    "for details in reviewer:\n",
    "    reviewer_name.append(details.text) \n",
    "while '' in reviewer_name:\n",
    "    reviewer_name.remove('')\n",
    "reviewer_name2='-'.join(reviewer_name)\n",
    "reviewer_name2"
   ]
  },
  {
   "cell_type": "code",
   "execution_count": 34,
   "id": "4d384ce7",
   "metadata": {},
   "outputs": [
    {
     "data": {
      "text/plain": [
       "'-Nice product-Awesome product---'"
      ]
     },
     "execution_count": 34,
     "metadata": {},
     "output_type": "execute_result"
    }
   ],
   "source": [
    "product_reviews = browser.find_elements(By.XPATH,\"//div[contains(@class, 'content-review')]\")\n",
    "item_reviews=[]\n",
    "for reviews in product_reviews:\n",
    "    item_reviews.append(reviews.text) \n",
    "item_reviews2='-'.join(item_reviews)\n",
    "item_reviews2"
   ]
  },
  {
   "cell_type": "code",
   "execution_count": 35,
   "id": "a496326c",
   "metadata": {},
   "outputs": [],
   "source": [
    "#browser.find_element(By.LINK_TEXT,item_name[2]).click()\n",
    "browser.get(\"https://yoshops.com\"+\"/products/candytech-h111i-supersonic-bass-earphone-wired-headset-with-mic\")"
   ]
  },
  {
   "cell_type": "code",
   "execution_count": 36,
   "id": "a744884a",
   "metadata": {},
   "outputs": [
    {
     "data": {
      "text/plain": [
       "'Product Detail:-Brand Candytech-Manufacturer n b communication pvt ltd-Package Dimensions 20 x 10 x 8 cm; 500 Grams-Item part number H111i-Special Features In-Ear-Microphone Form Factor In-Line-Headphones Form Factor In Ear-Batteries Required No-Connector Type Wired-3.5mm single pin-Item Weight 200 g--Product Description:-Candytech H111i wired headset has been engineered with Bass-driven Stereo sound technology that provides impressive and deep bass. The technologically advanced design of the earphone reduces the peripheral noise to make sure you stay entertained with none interference of external noises. Ergonomically designed drivers: Aerospace grade AL alloy drivers give the simplest acoustics, 3D HD sound and a punchy bass'"
      ]
     },
     "execution_count": 36,
     "metadata": {},
     "output_type": "execute_result"
    }
   ],
   "source": [
    "product_details = browser.find_elements(By.XPATH,\"//div[contains(@class, 'peekaboo-inner clearfix')]\")\n",
    "item_details=[]\n",
    "for details in product_details:\n",
    "    item_details.append(details.text) \n",
    "while '' in item_details:\n",
    "    item_details.remove('')\n",
    "item_details3='-'.join(item_details)\n",
    "item_details3 = item_details3.replace('\\n','-')\n",
    "item_details3 "
   ]
  },
  {
   "cell_type": "code",
   "execution_count": 37,
   "id": "48a7a8ed",
   "metadata": {},
   "outputs": [
    {
     "data": {
      "text/plain": [
       "''"
      ]
     },
     "execution_count": 37,
     "metadata": {},
     "output_type": "execute_result"
    }
   ],
   "source": [
    "reviewer = browser.find_elements(By.XPATH,\"//span[contains(@class, 'y-label yotpo-user-name yotpo-font-bold pull-left')]\")\n",
    "reviewer_name = []\n",
    "for details in reviewer:\n",
    "    reviewer_name.append(details.text) \n",
    "while '' in reviewer_name:\n",
    "    reviewer_name.remove('')\n",
    "reviewer_name3='-'.join(reviewer_name)\n",
    "reviewer_name3"
   ]
  },
  {
   "cell_type": "code",
   "execution_count": 38,
   "id": "301da645",
   "metadata": {},
   "outputs": [
    {
     "data": {
      "text/plain": [
       "'-'"
      ]
     },
     "execution_count": 38,
     "metadata": {},
     "output_type": "execute_result"
    }
   ],
   "source": [
    "product_reviews = browser.find_elements(By.XPATH,\"//div[contains(@class, 'content-review')]\")\n",
    "item_reviews=[]\n",
    "for reviews in product_reviews:\n",
    "    item_reviews.append(reviews.text) \n",
    "item_reviews3='-'.join(item_reviews)\n",
    "item_reviews3"
   ]
  },
  {
   "cell_type": "code",
   "execution_count": 39,
   "id": "fc006ecd",
   "metadata": {},
   "outputs": [],
   "source": [
    "browser.get(\"https://yoshops.com\"+\"/products/boat-rockerz-530-foldable-bluetooth-headphone-with-mic-carbon-black\")"
   ]
  },
  {
   "cell_type": "code",
   "execution_count": 40,
   "id": "eaaf5dcb",
   "metadata": {},
   "outputs": [
    {
     "data": {
      "text/plain": [
       "'Cash on Delivery available- ₹100 Flat Discount Code-  Yo100-Buy boAt Rockerz 530 Foldable Bluetooth Headset at Price Rs.799 from Yoshops.com-and Shopping to win prizes every day.-Product Description:-• Extra 3.5mm port: yes (Cable Supplied)-• Battery Charging: Micro USB Charging-• Rated power：10mW-• Net Weight: 110g-• Warranty: 1 year Manufacturer Warranty-• Delivery Includes: Wireless Headphone, Manual , Audio Cable, Charging Cable-• Super Bass-• Sound: HD Clarity with Super Bass-• Drivers: 40 mm-• Type: On Ear-• Connectivity: Bluetooth / Wireless-• Compatibility : All Mobiles , Laptop And Tablets-• Microphone: Noise Cancelling-• Operation range: 10 meters-• Playing time: Up to 8 hours-• Charge time: Nominal charging time: 2 hours--Designed to entertain, built to last, the Boat Rockerz 530 Bluetooth On the Ear Headphones with Mic are sure to be your best buddy in solitude. Its high-quality, lightweight construction allows you to carry it everywhere. You can also easily manage your calls with its built-in microphone. The powerful 40 mm dynamic drivers with the speaker resistance of 32 Ohm enable the headphones to deliver a punchy, rhythmic response to the most demanding tracks. Furthermore, On the Ear design provides maximum comfort when in use for long hours.'"
      ]
     },
     "execution_count": 40,
     "metadata": {},
     "output_type": "execute_result"
    }
   ],
   "source": [
    "product_details = browser.find_elements(By.XPATH,\"//div[contains(@class, 'peekaboo-inner clearfix')]\")\n",
    "item_details=[]\n",
    "for details in product_details:\n",
    "    item_details.append(details.text) \n",
    "while '' in item_details:\n",
    "    item_details.remove('')\n",
    "item_details4='-'.join(item_details)\n",
    "item_details4 = item_details4.replace('\\n','-')\n",
    "item_details4 "
   ]
  },
  {
   "cell_type": "code",
   "execution_count": 41,
   "id": "eb2567d5",
   "metadata": {},
   "outputs": [
    {
     "data": {
      "text/plain": [
       "'MR.L-Mr S.-SudhagarSvS-SudhagarSvS-SudhagarSvS-SudhagarSvS-SudhagarSvS-SudhagarSvS-SudhagarSvS-SudhagarSvS-Yoshops (.-Yoshops (.-Yoshops (.-Praveen K.-Yoshops (.-Yoshops (.-Pranava K.-Rahul R.-Prashant P.-Yoshops'"
      ]
     },
     "execution_count": 41,
     "metadata": {},
     "output_type": "execute_result"
    }
   ],
   "source": [
    "reviewer = browser.find_elements(By.XPATH,\"//span[contains(@class, 'y-label yotpo-user-name yotpo-font-bold pull-left')]\")\n",
    "reviewer_name = []\n",
    "for details in reviewer:\n",
    "    reviewer_name.append(details.text) \n",
    "while '' in reviewer_name:\n",
    "    reviewer_name.remove('')\n",
    "reviewer_name4='-'.join(reviewer_name)\n",
    "reviewer_name4"
   ]
  },
  {
   "cell_type": "code",
   "execution_count": 42,
   "id": "a2ca5198",
   "metadata": {},
   "outputs": [
    {
     "data": {
      "text/plain": [
       "\"-Thank you for your valuable feedback-Thank You for your valuable feedback.-Dear Customer, Thank you for your valuable feedback!-Dear Customer, Thank you for your valuable feedback!-Dear Customer, Thank you for your valuable feedback!-Dear Customer, Thank you for your valuable feedback!-Dear Customer, Thank you for your valuable feedback!-Dear Customer, Thank you for your valuable feedback!-Dear Customer, Thank you for your valuable feedback!-Dear Customer, Thank you for your valuable feedback!-'Dear Customer, Thank you for your valuable feedback!-'Dear Customer, Thank you for your valuable feedback!-'Dear Customer, Thank you for your valuable feedback!-Dear Customer, Thank you for your valuable feedback!-'Dear Customer, Thank you for your valuable feedback!-'Dear Customer, Thank you for your valuable feedback!-Dear Customer, Thank you for your valuable feedback!-Dear Customer, Thank you for your valuable feedback We appreciate your Effort!-Dear Customer, Thank you for your valuable feedback!-Thank you Arachana for valuable comment..---------------------\""
      ]
     },
     "execution_count": 42,
     "metadata": {},
     "output_type": "execute_result"
    }
   ],
   "source": [
    "product_reviews = browser.find_elements(By.XPATH,\"//div[contains(@class, 'content-review')]\")\n",
    "item_reviews=[]\n",
    "for reviews in product_reviews:\n",
    "    item_reviews.append(reviews.text) \n",
    "item_reviews4='-'.join(item_reviews)\n",
    "item_reviews4"
   ]
  },
  {
   "cell_type": "code",
   "execution_count": 43,
   "id": "93927188",
   "metadata": {},
   "outputs": [],
   "source": [
    "browser.get(\"https://yoshops.com\"+\"/products/ws887-mini-wireless-bluetooth-speaker1\")"
   ]
  },
  {
   "cell_type": "code",
   "execution_count": 44,
   "id": "15f3a966",
   "metadata": {},
   "outputs": [
    {
     "data": {
      "text/plain": [
       "\"CASH On Delivery Available-1.Yo-Gift Available-Buy WS887 Mini Wireless Bluetooth Speaker at price Rs.399 from Yoshops.com-Product Detail:-Brand Yoshops-Manufacturer Yoshops-Model For All Smartphones-Item model number WS-887 Mini speaker-Product Dimensions 5 x 5 x 10 cm-Item model number For All Smartphones-Mounting Hardware 1x 887Speakers-Power Source Battery Powered-Connector Type Bluetooth, Auxillary-Material Plastic and Metal-Product Description:-WS-887 Mini bluetoothe speaker has unique design and miniature size,you can carry it once you travel,go to gym or hike.Bluetooth Speaker Features Supports answering phone calls while playing music. Built-in FM radio. Plug-in style mini speaker supports TF/SD card. High-quality solid sound and impressive stereo sound performance,you can hear everything your song want to you to listen to . Compatible with table PCs, smart phones and various sorts of Bluetooth-enabled devices. Wireless Speaker The Speaker is meant to be the right outdoor companion for days at the beach, nights out by a bonfire and picnics within the park. It's versatile enough to be used for your personal needs also as house parties. it is also very easy to use - all you would like to try to to is charge them up, connect them together with your phone and press that play button. Sound This speaker leverages the advancements in Bluetooth technology along side top-notch components and style to supply a really capable audio experience. With vibrant highs and authoritative bass, this speaker gives you an entire listening experience when it involves fidelity. Portable Small and lightweight enough to drop into your picnic bag, baggage , man bag or maybe your handbag! Perfect to be used within the home, garden, on the beach, picnics and almost anywhere. Power Options Dual-mode power supply: built-in lithium battery, are often used via USB interface, power supplyUSB interface design, plug and play, easy to put in and operate. Compact and light-weight , easy to hold . With AUX port supported,you can connect with device that do not have bluetooth.So you do not need to buy a replacement play device with bluetooth. This wireless speaker is compatible together with your smartphone,Pc,laptop and tablet,easy to attach within 10 meter range.Built-n FM radio Plug-in style mini speaker supports TF/SD card Compatible with table PCs, smart phones and various sorts of Bluetooth-enabled devices.USB interface design, plug and play, easy to put in and operate.Portable design convenient for you to hold with, enjoy music at any time and at any places\""
      ]
     },
     "execution_count": 44,
     "metadata": {},
     "output_type": "execute_result"
    }
   ],
   "source": [
    "product_details = browser.find_elements(By.XPATH,\"//div[contains(@class, 'peekaboo-inner clearfix')]\")\n",
    "item_details=[]\n",
    "for details in product_details:\n",
    "    item_details.append(details.text) \n",
    "while '' in item_details:\n",
    "    item_details.remove('')\n",
    "item_details5='-'.join(item_details)\n",
    "item_details5 = item_details5.replace('\\n','-')\n",
    "item_details5 "
   ]
  },
  {
   "cell_type": "code",
   "execution_count": 45,
   "id": "41d0de09",
   "metadata": {},
   "outputs": [
    {
     "data": {
      "text/plain": [
       "''"
      ]
     },
     "execution_count": 45,
     "metadata": {},
     "output_type": "execute_result"
    }
   ],
   "source": [
    "reviewer = browser.find_elements(By.XPATH,\"//span[contains(@class, 'y-label yotpo-user-name yotpo-font-bold pull-left')]\")\n",
    "reviewer_name = []\n",
    "for details in reviewer:\n",
    "    reviewer_name.append(details.text) \n",
    "while '' in reviewer_name:\n",
    "    reviewer_name.remove('')\n",
    "reviewer_name5='-'.join(reviewer_name)\n",
    "reviewer_name5"
   ]
  },
  {
   "cell_type": "code",
   "execution_count": 46,
   "id": "174f0579",
   "metadata": {},
   "outputs": [
    {
     "data": {
      "text/plain": [
       "'-'"
      ]
     },
     "execution_count": 46,
     "metadata": {},
     "output_type": "execute_result"
    }
   ],
   "source": [
    "product_reviews = browser.find_elements(By.XPATH,\"//div[contains(@class, 'content-review')]\")\n",
    "item_reviews=[]\n",
    "for reviews in product_reviews:\n",
    "    item_reviews.append(reviews.text) \n",
    "item_reviews5='-'.join(item_reviews)\n",
    "item_reviews5"
   ]
  },
  {
   "cell_type": "code",
   "execution_count": 47,
   "id": "260ec946",
   "metadata": {},
   "outputs": [],
   "source": [
    "browser.get(\"https://yoshops.com\"+\"/products/mini-vr-box-virtual-reality-headsets-with-ultra-3d-glasses-compatible-with-android-and-ios-devices-blue-black\")"
   ]
  },
  {
   "cell_type": "code",
   "execution_count": 48,
   "id": "c5941068",
   "metadata": {},
   "outputs": [
    {
     "data": {
      "text/plain": [
       "\"CASH On Delivery Available-1.Yo-Gift Available-Buy Minions Mini VR BOX at the price of Rs.999 from Yoshops.com-Product Detail:-Brand: Yoshops-Model no: MINIVR01-Display Type:Curved Based-Suitable For:Gaming, Entertainment, Functional-Color: Blue-Compatible Eye: Both-Resolution:3D-Platform Features: Compatible OS, Android,IOS--Product Description:-The VR BOX case Mini brings you wonderful experience of watching 3D movies and playing 3D games 2.Materials: Uses ABS and 42 mm spherical resin lens material without stimulation plastic sheet 3.Offers you super 3D picture effect and wonderful feeling 4.Simulating viewing distance: provide you with a 1000 inches big screen at the space of 3m 5.Easy to place your smartphone into the 3D glasses ( Easily pull the smart phone storage box out, the put your smartphone in it ) 6. Perfectly suitable for your face once you wear the 3D Glasses 7.Flexible and adjustable headband is suitable for various people 8.You will not feel visual fatigue and dizziness even you employ it for an extended time due to the resin lens 9.Adjustable pupil distance and sight distance, satisfying different groups of individuals, optical AxisSliding control operation, you'll slightly adjust the position of the spherical resin lens through moving, the button on the highest of the so on get a far better experience of watching movies 10. Greatly enjoy a personal visual feast comfortably and convenient to use, allowing you to watch at anytime anywhere whether sitting, lying or standing as you wish, it's an excellent companion for traveling or staying reception 11. Suitable for nearly all types of smartphones ( Android / IOS, etc) that screen between 4.5 -- 6.0 inches 12.With a compact portable design, easy to hold.\""
      ]
     },
     "execution_count": 48,
     "metadata": {},
     "output_type": "execute_result"
    }
   ],
   "source": [
    "product_details = browser.find_elements(By.XPATH,\"//div[contains(@class, 'peekaboo-inner clearfix')]\")\n",
    "item_details=[]\n",
    "for details in product_details:\n",
    "    item_details.append(details.text) \n",
    "while '' in item_details:\n",
    "    item_details.remove('')\n",
    "item_details6='-'.join(item_details)\n",
    "item_details6 = item_details6.replace('\\n','-')\n",
    "item_details6 "
   ]
  },
  {
   "cell_type": "code",
   "execution_count": 49,
   "id": "b417b01c",
   "metadata": {},
   "outputs": [
    {
     "data": {
      "text/plain": [
       "'Hello'"
      ]
     },
     "execution_count": 49,
     "metadata": {},
     "output_type": "execute_result"
    }
   ],
   "source": [
    "reviewer = browser.find_elements(By.XPATH,\"//span[contains(@class, 'y-label yotpo-user-name yotpo-font-bold pull-left')]\")\n",
    "reviewer_name = []\n",
    "for details in reviewer:\n",
    "    reviewer_name.append(details.text) \n",
    "while '' in reviewer_name:\n",
    "    reviewer_name.remove('')\n",
    "reviewer_name6='-'.join(reviewer_name)\n",
    "reviewer_name6"
   ]
  },
  {
   "cell_type": "code",
   "execution_count": 50,
   "id": "11701cbe",
   "metadata": {},
   "outputs": [
    {
     "data": {
      "text/plain": [
       "'-good--'"
      ]
     },
     "execution_count": 50,
     "metadata": {},
     "output_type": "execute_result"
    }
   ],
   "source": [
    "product_reviews = browser.find_elements(By.XPATH,\"//div[contains(@class, 'content-review')]\")\n",
    "item_reviews=[]\n",
    "for reviews in product_reviews:\n",
    "    item_reviews.append(reviews.text) \n",
    "item_reviews6='-'.join(item_reviews)\n",
    "item_reviews6"
   ]
  },
  {
   "cell_type": "code",
   "execution_count": 51,
   "id": "b7c91081",
   "metadata": {},
   "outputs": [],
   "source": [
    "browser.get(\"https://yoshops.com\"+\"/products/reliance-jio-phone1\")"
   ]
  },
  {
   "cell_type": "code",
   "execution_count": 52,
   "id": "2f55c5fe",
   "metadata": {},
   "outputs": [
    {
     "data": {
      "text/plain": [
       "'Product Detail:-Brand Reliance Jio-Model FM90-Rs.1499-GENERAL-Form factor Bar-Removable battery No-Colours Black-SAR value NA-DISPLAY-Screen size (inches) 2.40-Touchscreen No-Resolution 240x320 pixels'"
      ]
     },
     "execution_count": 52,
     "metadata": {},
     "output_type": "execute_result"
    }
   ],
   "source": [
    "product_details = browser.find_elements(By.XPATH,\"//div[contains(@class, 'peekaboo-inner clearfix')]\")\n",
    "item_details=[]\n",
    "for details in product_details:\n",
    "    item_details.append(details.text) \n",
    "while '' in item_details:\n",
    "    item_details.remove('')\n",
    "item_details7='-'.join(item_details)\n",
    "item_details7 = item_details7.replace('\\n','-')\n",
    "item_details7 "
   ]
  },
  {
   "cell_type": "code",
   "execution_count": 53,
   "id": "09e2d3c2",
   "metadata": {},
   "outputs": [
    {
     "data": {
      "text/plain": [
       "'Yoshops (.-parth-Yoshops-SudhagarSvS-SudhagarSvS-SudhagarSvS-SudhagarSvS-SudhagarSvS-SudhagarSvS-SudhagarSvS-SudhagarSvS-SudhagarSvS-SudhagarSvS-SudhagarSvS-SudhagarSvS-SudhagarSvS-SudhagarSvS-SudhagarSvS-SudhagarSvS-Yoshops (.'"
      ]
     },
     "execution_count": 53,
     "metadata": {},
     "output_type": "execute_result"
    }
   ],
   "source": [
    "reviewer = browser.find_elements(By.XPATH,\"//span[contains(@class, 'y-label yotpo-user-name yotpo-font-bold pull-left')]\")\n",
    "reviewer_name = []\n",
    "for details in reviewer:\n",
    "    reviewer_name.append(details.text) \n",
    "while '' in reviewer_name:\n",
    "    reviewer_name.remove('')\n",
    "reviewer_name7='-'.join(reviewer_name)\n",
    "reviewer_name7"
   ]
  },
  {
   "cell_type": "code",
   "execution_count": 54,
   "id": "87740848",
   "metadata": {},
   "outputs": [
    {
     "data": {
      "text/plain": [
       "\"-'Dear Customer, Thank you for your valuable feedback!-great-Dear Customer, Thankyou for the feedback, keep shopping-Dear Customer, Thank you for your valuable feedback!-Dear Customer, Thank you for your valuable feedback!-Dear Customer, Thank you for your valuable feedback!-Dear Customer, Thank you for your valuable feedback!-Dear Customer, Thank you for your valuable feedback!-Dear Customer, Thank you for your valuable feedback!-Dear Customer, Thank you for your valuable feedback!-Dear Customer, Thank you for your valuable feedback!-Dear Customer, Thank you for your valuable feedback!-Dear Customer, Thank you for your valuable feedback!-Dear Customer, Thank you for your valuable feedback!-Dear Customer, Thank you for your valuable feedback!-Dear Customer, Thank you for your valuable feedback!-Dear Customer, Thank you for your valuable feedback!-Dear Customer, Thank you for your valuable feedback!-Dear Customer, Thank you for your valuable feedback!-'Dear Customer, Thank you for your valuable feedback!---------------------\""
      ]
     },
     "execution_count": 54,
     "metadata": {},
     "output_type": "execute_result"
    }
   ],
   "source": [
    "product_reviews = browser.find_elements(By.XPATH,\"//div[contains(@class, 'content-review')]\")\n",
    "item_reviews=[]\n",
    "for reviews in product_reviews:\n",
    "    item_reviews.append(reviews.text) \n",
    "item_reviews7='-'.join(item_reviews)\n",
    "item_reviews7"
   ]
  },
  {
   "cell_type": "code",
   "execution_count": 55,
   "id": "23ac11cd",
   "metadata": {},
   "outputs": [],
   "source": [
    "browser.get(\"https://yoshops.com\"+\"/products/hx-750-remote-control-flying-drone\")"
   ]
  },
  {
   "cell_type": "code",
   "execution_count": 56,
   "id": "95b10c30",
   "metadata": {},
   "outputs": [
    {
     "data": {
      "text/plain": [
       "'₹100 Flat Discount use Coupon Code- yo100-Cash on Delivery available-and Shopping to win prize everyday.-Product Detail:-Model HX750-Article Type: QUAD COPTER-Weight: 90 gm, Length: 20 cm, Width: 20 cm, Height: 3 cm-Flying Height Above 20 meters-Camera: No-Function:- Flight mode, Up/Down Side ward Flight, Headless mode, One key return-Battery For Remote Control:- 3 x 1.5 AA Battery-Product Description:-Once in while along comes a product that instantly becomes a best seller and the remarkable HX 750 Quad copter fits into this category. There are many models that have tried to dominate the Quad copter market but none have been as successful as this fabulous flying machine.'"
      ]
     },
     "execution_count": 56,
     "metadata": {},
     "output_type": "execute_result"
    }
   ],
   "source": [
    "product_details = browser.find_elements(By.XPATH,\"//div[contains(@class, 'peekaboo-inner clearfix')]\")\n",
    "item_details=[]\n",
    "for details in product_details:\n",
    "    item_details.append(details.text) \n",
    "while '' in item_details:\n",
    "    item_details.remove('')\n",
    "item_details8='-'.join(item_details)\n",
    "item_details8 = item_details8.replace('\\n','-')\n",
    "item_details8 "
   ]
  },
  {
   "cell_type": "code",
   "execution_count": 57,
   "id": "e5da35d7",
   "metadata": {},
   "outputs": [
    {
     "data": {
      "text/plain": [
       "'SudhagarSvS-SudhagarSvS-SudhagarSvS-SudhagarSvS-SudhagarSvS-SudhagarSvS-SudhagarSvS-SudhagarSvS-Yoshops (.-Yoshops (.-Yoshops (.-Praveen K.-Yoshops (.-Yoshops (.-Pranava K.-Prashant P.-Jeyarajan D.-Rahul-Rahul c.-Aditya B.'"
      ]
     },
     "execution_count": 57,
     "metadata": {},
     "output_type": "execute_result"
    }
   ],
   "source": [
    "reviewer = browser.find_elements(By.XPATH,\"//span[contains(@class, 'y-label yotpo-user-name yotpo-font-bold pull-left')]\")\n",
    "reviewer_name = []\n",
    "for details in reviewer:\n",
    "    reviewer_name.append(details.text) \n",
    "while '' in reviewer_name:\n",
    "    reviewer_name.remove('')\n",
    "reviewer_name8='-'.join(reviewer_name)\n",
    "reviewer_name8"
   ]
  },
  {
   "cell_type": "code",
   "execution_count": 58,
   "id": "107567a7",
   "metadata": {},
   "outputs": [
    {
     "data": {
      "text/plain": [
       "\"-Dear Customer, Thank you for your valuable feedback!-Dear Customer, Thank you for your valuable feedback!-Dear Customer, Thank you for your valuable feedback!-Dear Customer, Thank you for your valuable feedback!-Dear Customer, Thank you for your valuable feedback!-Dear Customer, Thank you for your valuable feedback!-Dear Customer, Thank you for your valuable feedback!-Dear Customer, Thank you for your valuable feedback!-'Dear Customer, Thank you for your valuable feedback!-'Dear Customer, Thank you for your valuable feedback!-'Dear Customer, Thank you for your valuable feedback!-Dear Customer, Thank you for your valuable feedback!-'Dear Customer, Thank you for your valuable feedback!-'Dear Customer, Thank you for your valuable feedback!-Dear Customer, Thank you for your valuable feedback!-Dear Customer, Thank you for your valuable feedback!-Good Service-I fly this drone it is very stable and easy control very mods like flip ,speed conversation ,trim and very features buy this drone to yoshops best drone-It is a good drone for beginners buy this drone at 1400 by using coupon code=yo100-This drone worth its price.\\nProduct was packed well, shipping was fast.---------------------\""
      ]
     },
     "execution_count": 58,
     "metadata": {},
     "output_type": "execute_result"
    }
   ],
   "source": [
    "product_reviews = browser.find_elements(By.XPATH,\"//div[contains(@class, 'content-review')]\")\n",
    "item_reviews=[]\n",
    "for reviews in product_reviews:\n",
    "    item_reviews.append(reviews.text) \n",
    "item_reviews8='-'.join(item_reviews)\n",
    "item_reviews8"
   ]
  },
  {
   "cell_type": "code",
   "execution_count": 59,
   "id": "6bdf5fd0",
   "metadata": {},
   "outputs": [],
   "source": [
    "browser.get(\"https://yoshops.com\"+\"/products/avengers-captain-america-drone-four-axis-aircraft-with-2-4-ghz-rc-blade-guard-headless-mode-led-without-camera\")"
   ]
  },
  {
   "cell_type": "code",
   "execution_count": 60,
   "id": "e8c7d847",
   "metadata": {},
   "outputs": [
    {
     "data": {
      "text/plain": [
       "'Cash on Delivery available-₹200 Flat Discount use Coupon Code- yo2020-and Shopping to win prizes every day.-Product Detail:-Brand  Marvel-Minimum Age: 3-Built-in 4 Axis-stronger wind resistance and more stable,-for both indoor and outdoor flight Equipped with protective frame to scale back damages thanks to crash.-Camera - No-Flying Height - 40 Mtrs-Flying time: 6-8 Minute,-Weight - 0.2 Kg-Type: remote Toys Accessories'"
      ]
     },
     "execution_count": 60,
     "metadata": {},
     "output_type": "execute_result"
    }
   ],
   "source": [
    "product_details = browser.find_elements(By.XPATH,\"//div[contains(@class, 'peekaboo-inner clearfix')]\")\n",
    "item_details=[]\n",
    "for details in product_details:\n",
    "    item_details.append(details.text) \n",
    "while '' in item_details:\n",
    "    item_details.remove('')\n",
    "item_details9='-'.join(item_details)\n",
    "item_details9 = item_details9.replace('\\n','-')\n",
    "item_details9 "
   ]
  },
  {
   "cell_type": "code",
   "execution_count": 61,
   "id": "abac7e17",
   "metadata": {},
   "outputs": [
    {
     "data": {
      "text/plain": [
       "'SudhagarSvS-SudhagarSvS-SudhagarSvS-Yoshops (.-Prashant P.'"
      ]
     },
     "execution_count": 61,
     "metadata": {},
     "output_type": "execute_result"
    }
   ],
   "source": [
    "reviewer = browser.find_elements(By.XPATH,\"//span[contains(@class, 'y-label yotpo-user-name yotpo-font-bold pull-left')]\")\n",
    "reviewer_name = []\n",
    "for details in reviewer:\n",
    "    reviewer_name.append(details.text) \n",
    "while '' in reviewer_name:\n",
    "    reviewer_name.remove('')\n",
    "reviewer_name9='-'.join(reviewer_name)\n",
    "reviewer_name9"
   ]
  },
  {
   "cell_type": "code",
   "execution_count": 62,
   "id": "f9ceda14",
   "metadata": {},
   "outputs": [
    {
     "data": {
      "text/plain": [
       "\"-Dear Customer, Thank you for your valuable feedback!-Dear Customer, Thank you for your valuable feedback!-Dear Customer, Thank you for your valuable feedback!-'Dear Customer, Thank you for your valuable feedback!-Dear Customer, Thank you for your valuable feedback!------\""
      ]
     },
     "execution_count": 62,
     "metadata": {},
     "output_type": "execute_result"
    }
   ],
   "source": [
    "product_reviews = browser.find_elements(By.XPATH,\"//div[contains(@class, 'content-review')]\")\n",
    "item_reviews=[]\n",
    "for reviews in product_reviews:\n",
    "    item_reviews.append(reviews.text) \n",
    "item_reviews9='-'.join(item_reviews)\n",
    "item_reviews9"
   ]
  },
  {
   "cell_type": "code",
   "execution_count": 63,
   "id": "b89e9f31",
   "metadata": {},
   "outputs": [],
   "source": [
    "browser.get(\"https://yoshops.com\"+\"/products/olifair-pearls-saffron-and-radiant-effect-night-cream-50ml\")"
   ]
  },
  {
   "cell_type": "code",
   "execution_count": 64,
   "id": "5d655999",
   "metadata": {},
   "outputs": [
    {
     "data": {
      "text/plain": [
       "'Cash On Delivery Available-Free Shipping Available-Free One Gift Available-Use Coupon Code for 5% Discount: Neha@gift  -Product Details:-Special Ingredients: Glycerine-Item Form: Cream-Brand:       Olifair-Model Name: Pearls Saffron and Radiant Effect Night Cream-Use for Face-Specific Uses For Product Brightening, Pigmentation, Uneven Skin Tone-Skin Type Normal'"
      ]
     },
     "execution_count": 64,
     "metadata": {},
     "output_type": "execute_result"
    }
   ],
   "source": [
    "product_details = browser.find_elements(By.XPATH,\"//div[contains(@class, 'peekaboo-inner clearfix')]\")\n",
    "item_details=[]\n",
    "for details in product_details:\n",
    "    item_details.append(details.text) \n",
    "while '' in item_details:\n",
    "    item_details.remove('')\n",
    "item_details10='-'.join(item_details)\n",
    "item_details10 = item_details10.replace('\\n','-')\n",
    "item_details10 "
   ]
  },
  {
   "cell_type": "code",
   "execution_count": 65,
   "id": "5ed7e725",
   "metadata": {},
   "outputs": [
    {
     "data": {
      "text/plain": [
       "''"
      ]
     },
     "execution_count": 65,
     "metadata": {},
     "output_type": "execute_result"
    }
   ],
   "source": [
    "reviewer = browser.find_elements(By.XPATH,\"//span[contains(@class, 'y-label yotpo-user-name yotpo-font-bold pull-left')]\")\n",
    "reviewer_name = []\n",
    "for details in reviewer:\n",
    "    reviewer_name.append(details.text) \n",
    "while '' in reviewer_name:\n",
    "    reviewer_name.remove('')\n",
    "reviewer_name10='-'.join(reviewer_name)\n",
    "reviewer_name10"
   ]
  },
  {
   "cell_type": "code",
   "execution_count": 66,
   "id": "d2d48af2",
   "metadata": {},
   "outputs": [
    {
     "data": {
      "text/plain": [
       "'-'"
      ]
     },
     "execution_count": 66,
     "metadata": {},
     "output_type": "execute_result"
    }
   ],
   "source": [
    "product_reviews = browser.find_elements(By.XPATH,\"//div[contains(@class, 'content-review')]\")\n",
    "item_reviews=[]\n",
    "for reviews in product_reviews:\n",
    "    item_reviews.append(reviews.text) \n",
    "item_reviews10='-'.join(item_reviews)\n",
    "item_reviews10"
   ]
  },
  {
   "cell_type": "code",
   "execution_count": 67,
   "id": "18b08b63",
   "metadata": {},
   "outputs": [],
   "source": [
    "browser.get(\"https://yoshops.com\"+\"/products/sony-playstation-ps2-gaming-console-150-gb-hard-disk-with-50-games-preloaded-black\")"
   ]
  },
  {
   "cell_type": "code",
   "execution_count": 68,
   "id": "d733a88a",
   "metadata": {},
   "outputs": [
    {
     "data": {
      "text/plain": [
       "\"Product Detail--·         Box Content: PlayStation 1 Console, 2 Joystick, 1 AV Cable, 1 Power Cord, Memory Card-·         Warranty:1 Year Dealer Warranty-·         Type: AV-·         Memory:     150GB-·         Colour:         BLACK-·         Brand:           SONY-·         Language: ENGLISH-·         Material:     FIBER--Product Description-The PlayStation 2 (PS2), is a home video game console that was manufactured by Sony Computer Entertainment. It is Sony's second installment in the PlayStation Series. The sixth-generation console competed with Sega's Dreamcast, Microsoft's Xbox, and Nintendo's GameCube.New Sony PS2 runs on an Emotion Engine processor that produces precise high-resolution 2D and 3D graphics. Further, it has an inbuilt DVD and CD player that lets you enjoy your favorite movies, TV series, and music. hard disk price, , , sony ps2 HDD, , , sony ps2 hardware, sony ps2. \""
      ]
     },
     "execution_count": 68,
     "metadata": {},
     "output_type": "execute_result"
    }
   ],
   "source": [
    "product_details = browser.find_elements(By.XPATH,\"//div[contains(@class, 'peekaboo-inner clearfix')]\")\n",
    "item_details=[]\n",
    "for details in product_details:\n",
    "    item_details.append(details.text) \n",
    "while '' in item_details:\n",
    "    item_details.remove('')\n",
    "item_details11='-'.join(item_details)\n",
    "item_details11 = item_details11.replace('\\n','-')\n",
    "item_details11 "
   ]
  },
  {
   "cell_type": "code",
   "execution_count": 69,
   "id": "1c966f12",
   "metadata": {},
   "outputs": [
    {
     "data": {
      "text/plain": [
       "'SudhagarSvS-SudhagarSvS-SudhagarSvS-SudhagarSvS-SudhagarSvS-SudhagarSvS-SudhagarSvS-SudhagarSvS-SudhagarSvS-SudhagarSvS-Yoshops (.-Yoshops (.-Yoshops (.-Praveen K.-Praveen K.-Yoshops (.-Yoshops (.-Pranava K.-Pranava K.-Pranava K.'"
      ]
     },
     "execution_count": 69,
     "metadata": {},
     "output_type": "execute_result"
    }
   ],
   "source": [
    "reviewer = browser.find_elements(By.XPATH,\"//span[contains(@class, 'y-label yotpo-user-name yotpo-font-bold pull-left')]\")\n",
    "reviewer_name = []\n",
    "for details in reviewer:\n",
    "    reviewer_name.append(details.text) \n",
    "while '' in reviewer_name:\n",
    "    reviewer_name.remove('')\n",
    "reviewer_name11='-'.join(reviewer_name)\n",
    "reviewer_name11"
   ]
  },
  {
   "cell_type": "code",
   "execution_count": 70,
   "id": "561cfaa8",
   "metadata": {},
   "outputs": [
    {
     "data": {
      "text/plain": [
       "\"-Dear Customer, Thank you for your valuable feedback!-Dear Customer, Thank you for your valuable feedback!-Dear Customer, Thank you for your valuable feedback!-Dear Customer, Thank you for your valuable feedback!-Dear Customer, Thank you for your valuable feedback!-Dear Customer, Thank you for your valuable feedback!-Dear Customer, Thank you for your valuable feedback!-Dear Customer, Thank you for your valuable feedback!-Dear Customer, Thank you for your valuable feedback!-Dear Customer, Thank you for your valuable feedback!-'Dear Customer, Thank you for your valuable feedback!-'Dear Customer, Thank you for your valuable feedback!-'Dear Customer, Thank you for your valuable feedback!-Dear Customer, Thank you for your valuable feedback!-Dear Customer, Thank you for your valuable feedback!-'Dear Customer, Thank you for your valuable feedback!-'Dear Customer, Thank you for your valuable feedback!-Dear Customer, Thank you for your valuable feedback!-Dear Customer, Thank you for your valuable feedback!-Dear Customer, Thank you for your valuable feedback!---------------------\""
      ]
     },
     "execution_count": 70,
     "metadata": {},
     "output_type": "execute_result"
    }
   ],
   "source": [
    "product_reviews = browser.find_elements(By.XPATH,\"//div[contains(@class, 'content-review')]\")\n",
    "item_reviews=[]\n",
    "for reviews in product_reviews:\n",
    "    item_reviews.append(reviews.text) \n",
    "item_reviews11='-'.join(item_reviews)\n",
    "item_reviews11"
   ]
  },
  {
   "cell_type": "code",
   "execution_count": 71,
   "id": "b5f82c39",
   "metadata": {},
   "outputs": [],
   "source": [
    "browser.get(\"https://yoshops.com\"+\"/products/bba-online-class-live-tuition-training-program-with-internship1\")"
   ]
  },
  {
   "cell_type": "code",
   "execution_count": 72,
   "id": "72086cbe",
   "metadata": {},
   "outputs": [
    {
     "data": {
      "text/plain": [
       "'Welcome Kits Available-₹100 Flat Discount use Coupon Code- yo100-BBA and BCOM Program --Online Class Detail:-Course Fee- Rs.999-Payment- Monthly-Timings-Monday to Friday -Training Modes-Online & LIVE Classroom-Course Description:-• Business Environment-• Effective Communication-• Principles of Management-• Business Economics-• Marketing Management-• Personnel Management & Industry Relations-• Financial &  Management Accounting-Online Class Description: -Getting work experience is an essential aspect of starting your career as a young graduate. The earlier you start gaining experience for your CV, the better. Job experience is not just restricted to an office job with a large organisation. You can get an internship at a small company or get experience by freelancing.-Unfortunately, in today’s job market, passing exams with high scores and getting a degree does not offer the much-needed work experience, you will need to succeed in a workspace.- An internship is one of the best ways to gain that all-important job experience which you will get along with your online training.-The Eligibility to try to Finance course are as follows.-Education: It is mandatory to be a pass out of 12th for doing this course. It is a simple course so anyone who can understand, read and write English is eligible for this course.-Time: You need to provide a minimum of 3–4 hours each day to the present course practice then you will have better chances to earn good money while learning.'"
      ]
     },
     "execution_count": 72,
     "metadata": {},
     "output_type": "execute_result"
    }
   ],
   "source": [
    "product_details = browser.find_elements(By.XPATH,\"//div[contains(@class, 'peekaboo-inner clearfix')]\")\n",
    "item_details=[]\n",
    "for details in product_details:\n",
    "    item_details.append(details.text) \n",
    "while '' in item_details:\n",
    "    item_details.remove('')\n",
    "item_details12='-'.join(item_details)\n",
    "item_details12 = item_details12.replace('\\n','-')\n",
    "item_details12 "
   ]
  },
  {
   "cell_type": "code",
   "execution_count": 73,
   "id": "cf66a536",
   "metadata": {},
   "outputs": [
    {
     "data": {
      "text/plain": [
       "''"
      ]
     },
     "execution_count": 73,
     "metadata": {},
     "output_type": "execute_result"
    }
   ],
   "source": [
    "reviewer = browser.find_elements(By.XPATH,\"//span[contains(@class, 'y-label yotpo-user-name yotpo-font-bold pull-left')]\")\n",
    "reviewer_name = []\n",
    "for details in reviewer:\n",
    "    reviewer_name.append(details.text) \n",
    "while '' in reviewer_name:\n",
    "    reviewer_name.remove('')\n",
    "reviewer_name12='-'.join(reviewer_name)\n",
    "reviewer_name12"
   ]
  },
  {
   "cell_type": "code",
   "execution_count": 74,
   "id": "dec3b53c",
   "metadata": {},
   "outputs": [
    {
     "data": {
      "text/plain": [
       "'-'"
      ]
     },
     "execution_count": 74,
     "metadata": {},
     "output_type": "execute_result"
    }
   ],
   "source": [
    "product_reviews = browser.find_elements(By.XPATH,\"//div[contains(@class, 'content-review')]\")\n",
    "item_reviews=[]\n",
    "for reviews in product_reviews:\n",
    "    item_reviews.append(reviews.text) \n",
    "item_reviews12='-'.join(item_reviews)\n",
    "item_reviews12"
   ]
  },
  {
   "cell_type": "code",
   "execution_count": 75,
   "id": "5b188211",
   "metadata": {},
   "outputs": [],
   "source": [
    "details_of_products = [item_details1,item_details2,item_details3,item_details4,item_details5,item_details6,item_details7,item_details8,item_details9,item_details10,item_details11,item_details12]"
   ]
  },
  {
   "cell_type": "code",
   "execution_count": 76,
   "id": "0537c0af",
   "metadata": {},
   "outputs": [],
   "source": [
    "names_of_reviewers = [reviewer_name1,reviewer_name2,reviewer_name3,reviewer_name4,reviewer_name5,reviewer_name6,reviewer_name7,reviewer_name8,reviewer_name9,reviewer_name10,reviewer_name11,reviewer_name12]"
   ]
  },
  {
   "cell_type": "code",
   "execution_count": 77,
   "id": "abf578b1",
   "metadata": {},
   "outputs": [],
   "source": [
    "reviews_by_reviewers = [item_reviews1,item_reviews2,item_reviews3,item_reviews4,item_reviews5,item_reviews6,item_reviews7,item_reviews8,item_reviews9,item_reviews10,item_reviews11,item_reviews12]"
   ]
  },
  {
   "cell_type": "code",
   "execution_count": 78,
   "id": "fd1dbc60",
   "metadata": {},
   "outputs": [
    {
     "data": {
      "text/plain": [
       "['Remya-kriti',\n",
       " 'Kritika-Tak-Kritika',\n",
       " '',\n",
       " 'MR.L-Mr S.-SudhagarSvS-SudhagarSvS-SudhagarSvS-SudhagarSvS-SudhagarSvS-SudhagarSvS-SudhagarSvS-SudhagarSvS-Yoshops (.-Yoshops (.-Yoshops (.-Praveen K.-Yoshops (.-Yoshops (.-Pranava K.-Rahul R.-Prashant P.-Yoshops',\n",
       " '',\n",
       " 'Hello',\n",
       " 'Yoshops (.-parth-Yoshops-SudhagarSvS-SudhagarSvS-SudhagarSvS-SudhagarSvS-SudhagarSvS-SudhagarSvS-SudhagarSvS-SudhagarSvS-SudhagarSvS-SudhagarSvS-SudhagarSvS-SudhagarSvS-SudhagarSvS-SudhagarSvS-SudhagarSvS-SudhagarSvS-Yoshops (.',\n",
       " 'SudhagarSvS-SudhagarSvS-SudhagarSvS-SudhagarSvS-SudhagarSvS-SudhagarSvS-SudhagarSvS-SudhagarSvS-Yoshops (.-Yoshops (.-Yoshops (.-Praveen K.-Yoshops (.-Yoshops (.-Pranava K.-Prashant P.-Jeyarajan D.-Rahul-Rahul c.-Aditya B.',\n",
       " 'SudhagarSvS-SudhagarSvS-SudhagarSvS-Yoshops (.-Prashant P.',\n",
       " '',\n",
       " 'SudhagarSvS-SudhagarSvS-SudhagarSvS-SudhagarSvS-SudhagarSvS-SudhagarSvS-SudhagarSvS-SudhagarSvS-SudhagarSvS-SudhagarSvS-Yoshops (.-Yoshops (.-Yoshops (.-Praveen K.-Praveen K.-Yoshops (.-Yoshops (.-Pranava K.-Pranava K.-Pranava K.',\n",
       " '']"
      ]
     },
     "execution_count": 78,
     "metadata": {},
     "output_type": "execute_result"
    }
   ],
   "source": [
    "names_of_reviewers"
   ]
  },
  {
   "cell_type": "code",
   "execution_count": 79,
   "id": "ce8fd07b",
   "metadata": {},
   "outputs": [
    {
     "name": "stdout",
     "output_type": "stream",
     "text": [
      "                                      Product Details  \\\n",
      "0   Cash On Delivery Available-Free Shipping Avail...   \n",
      "1   Cash On Delivery Available-Free Shipping Avail...   \n",
      "2   Product Detail:-Brand Candytech-Manufacturer n...   \n",
      "3   Cash on Delivery available- ₹100 Flat Discount...   \n",
      "4   CASH On Delivery Available-1.Yo-Gift Available...   \n",
      "5   CASH On Delivery Available-1.Yo-Gift Available...   \n",
      "6   Product Detail:-Brand Reliance Jio-Model FM90-...   \n",
      "7   ₹100 Flat Discount use Coupon Code- yo100-Cash...   \n",
      "8   Cash on Delivery available-₹200 Flat Discount ...   \n",
      "9   Cash On Delivery Available-Free Shipping Avail...   \n",
      "10  Product Detail--·         Box Content: PlaySta...   \n",
      "11  Welcome Kits Available-₹100 Flat Discount use ...   \n",
      "\n",
      "                                       Reviewers Name  \\\n",
      "0                                         Remya-kriti   \n",
      "1                                 Kritika-Tak-Kritika   \n",
      "2                                                       \n",
      "3   MR.L-Mr S.-SudhagarSvS-SudhagarSvS-SudhagarSvS...   \n",
      "4                                                       \n",
      "5                                               Hello   \n",
      "6   Yoshops (.-parth-Yoshops-SudhagarSvS-SudhagarS...   \n",
      "7   SudhagarSvS-SudhagarSvS-SudhagarSvS-SudhagarSv...   \n",
      "8   SudhagarSvS-SudhagarSvS-SudhagarSvS-Yoshops (....   \n",
      "9                                                       \n",
      "10  SudhagarSvS-SudhagarSvS-SudhagarSvS-SudhagarSv...   \n",
      "11                                                      \n",
      "\n",
      "                                 Reviews by Reviewers  \n",
      "0                -Thank You for Your Review-Awesome--  \n",
      "1                    -Nice product-Awesome product---  \n",
      "2                                                   -  \n",
      "3   -Thank you for your valuable feedback-Thank Yo...  \n",
      "4                                                   -  \n",
      "5                                             -good--  \n",
      "6   -'Dear Customer, Thank you for your valuable f...  \n",
      "7   -Dear Customer, Thank you for your valuable fe...  \n",
      "8   -Dear Customer, Thank you for your valuable fe...  \n",
      "9                                                   -  \n",
      "10  -Dear Customer, Thank you for your valuable fe...  \n",
      "11                                                  -  \n"
     ]
    }
   ],
   "source": [
    "df2 = pd.DataFrame(list(zip(details_of_products,names_of_reviewers,reviews_by_reviewers)),\n",
    "               columns =['Product Details', 'Reviewers Name', 'Reviews by Reviewers'])\n",
    "print(df2)"
   ]
  },
  {
   "cell_type": "code",
   "execution_count": 80,
   "id": "9fce2677",
   "metadata": {},
   "outputs": [
    {
     "data": {
      "text/html": [
       "<div>\n",
       "<style scoped>\n",
       "    .dataframe tbody tr th:only-of-type {\n",
       "        vertical-align: middle;\n",
       "    }\n",
       "\n",
       "    .dataframe tbody tr th {\n",
       "        vertical-align: top;\n",
       "    }\n",
       "\n",
       "    .dataframe thead th {\n",
       "        text-align: right;\n",
       "    }\n",
       "</style>\n",
       "<table border=\"1\" class=\"dataframe\">\n",
       "  <thead>\n",
       "    <tr style=\"text-align: right;\">\n",
       "      <th></th>\n",
       "      <th>Product Name</th>\n",
       "      <th>Old Price in ₹</th>\n",
       "      <th>Discounted Price in ₹</th>\n",
       "      <th>Product Details</th>\n",
       "      <th>Reviewers Name</th>\n",
       "      <th>Reviews by Reviewers</th>\n",
       "    </tr>\n",
       "  </thead>\n",
       "  <tbody>\n",
       "    <tr>\n",
       "      <th>0</th>\n",
       "      <td>Hammer Airflow True Wireless Earbuds (Blue), 5...</td>\n",
       "      <td>4,475.00</td>\n",
       "      <td>799.00</td>\n",
       "      <td>Cash On Delivery Available-Free Shipping Avail...</td>\n",
       "      <td>Remya-kriti</td>\n",
       "      <td>-Thank You for Your Review-Awesome--</td>\n",
       "    </tr>\n",
       "    <tr>\n",
       "      <th>1</th>\n",
       "      <td>Hammer Sting Lite In-Ear Wireless Bluetooth Ne...</td>\n",
       "      <td>3,495.00</td>\n",
       "      <td>699.00</td>\n",
       "      <td>Cash On Delivery Available-Free Shipping Avail...</td>\n",
       "      <td>Kritika-Tak-Kritika</td>\n",
       "      <td>-Nice product-Awesome product---</td>\n",
       "    </tr>\n",
       "    <tr>\n",
       "      <th>2</th>\n",
       "      <td>Candytech H111i Supersonic Bass earphone Wired...</td>\n",
       "      <td>456.00</td>\n",
       "      <td>299.00</td>\n",
       "      <td>Product Detail:-Brand Candytech-Manufacturer n...</td>\n",
       "      <td></td>\n",
       "      <td>-</td>\n",
       "    </tr>\n",
       "    <tr>\n",
       "      <th>3</th>\n",
       "      <td>Boat Rockerz 530 Foldable Bluetooth Headphone ...</td>\n",
       "      <td>999.00</td>\n",
       "      <td>799.00</td>\n",
       "      <td>Cash on Delivery available- ₹100 Flat Discount...</td>\n",
       "      <td>MR.L-Mr S.-SudhagarSvS-SudhagarSvS-SudhagarSvS...</td>\n",
       "      <td>-Thank you for your valuable feedback-Thank Yo...</td>\n",
       "    </tr>\n",
       "    <tr>\n",
       "      <th>4</th>\n",
       "      <td>WS887 Mini Wireless Bluetooth Speaker</td>\n",
       "      <td>999.00</td>\n",
       "      <td>399.00</td>\n",
       "      <td>CASH On Delivery Available-1.Yo-Gift Available...</td>\n",
       "      <td></td>\n",
       "      <td>-</td>\n",
       "    </tr>\n",
       "    <tr>\n",
       "      <th>5</th>\n",
       "      <td>Mini VR BOX Virtual Reality Headsets with ultr...</td>\n",
       "      <td>1,487.00</td>\n",
       "      <td>349.00</td>\n",
       "      <td>CASH On Delivery Available-1.Yo-Gift Available...</td>\n",
       "      <td>Hello</td>\n",
       "      <td>-good--</td>\n",
       "    </tr>\n",
       "    <tr>\n",
       "      <th>6</th>\n",
       "      <td>Reliance Jio Phone</td>\n",
       "      <td>1,999.00</td>\n",
       "      <td>1,499.00</td>\n",
       "      <td>Product Detail:-Brand Reliance Jio-Model FM90-...</td>\n",
       "      <td>Yoshops (.-parth-Yoshops-SudhagarSvS-SudhagarS...</td>\n",
       "      <td>-'Dear Customer, Thank you for your valuable f...</td>\n",
       "    </tr>\n",
       "    <tr>\n",
       "      <th>7</th>\n",
       "      <td>Vmax HX 750 Quadcopter Drone (No Camera)</td>\n",
       "      <td>4,000.00</td>\n",
       "      <td>1,499.00</td>\n",
       "      <td>₹100 Flat Discount use Coupon Code- yo100-Cash...</td>\n",
       "      <td>SudhagarSvS-SudhagarSvS-SudhagarSvS-SudhagarSv...</td>\n",
       "      <td>-Dear Customer, Thank you for your valuable fe...</td>\n",
       "    </tr>\n",
       "    <tr>\n",
       "      <th>8</th>\n",
       "      <td>Avengers Captain America Drone Four Axis Aircr...</td>\n",
       "      <td>4,678.00</td>\n",
       "      <td>2,299.00</td>\n",
       "      <td>Cash on Delivery available-₹200 Flat Discount ...</td>\n",
       "      <td>SudhagarSvS-SudhagarSvS-SudhagarSvS-Yoshops (....</td>\n",
       "      <td>-Dear Customer, Thank you for your valuable fe...</td>\n",
       "    </tr>\n",
       "    <tr>\n",
       "      <th>9</th>\n",
       "      <td>Olifair Pearls Saffron and Radiant Effect Nigh...</td>\n",
       "      <td>2,232.00</td>\n",
       "      <td>999.00</td>\n",
       "      <td>Cash On Delivery Available-Free Shipping Avail...</td>\n",
       "      <td></td>\n",
       "      <td>-</td>\n",
       "    </tr>\n",
       "    <tr>\n",
       "      <th>10</th>\n",
       "      <td>Sony PlayStation PS2 Gaming Console 150 GB Har...</td>\n",
       "      <td>12,289.00</td>\n",
       "      <td>8,999.00</td>\n",
       "      <td>Product Detail--·         Box Content: PlaySta...</td>\n",
       "      <td>SudhagarSvS-SudhagarSvS-SudhagarSvS-SudhagarSv...</td>\n",
       "      <td>-Dear Customer, Thank you for your valuable fe...</td>\n",
       "    </tr>\n",
       "    <tr>\n",
       "      <th>11</th>\n",
       "      <td>BBA Online Class Live Tuition Training Program...</td>\n",
       "      <td>6,500.00</td>\n",
       "      <td>999.00</td>\n",
       "      <td>Welcome Kits Available-₹100 Flat Discount use ...</td>\n",
       "      <td></td>\n",
       "      <td>-</td>\n",
       "    </tr>\n",
       "  </tbody>\n",
       "</table>\n",
       "</div>"
      ],
      "text/plain": [
       "                                         Product Name Old Price in ₹  \\\n",
       "0   Hammer Airflow True Wireless Earbuds (Blue), 5...       4,475.00   \n",
       "1   Hammer Sting Lite In-Ear Wireless Bluetooth Ne...       3,495.00   \n",
       "2   Candytech H111i Supersonic Bass earphone Wired...         456.00   \n",
       "3   Boat Rockerz 530 Foldable Bluetooth Headphone ...         999.00   \n",
       "4               WS887 Mini Wireless Bluetooth Speaker         999.00   \n",
       "5   Mini VR BOX Virtual Reality Headsets with ultr...       1,487.00   \n",
       "6                                  Reliance Jio Phone       1,999.00   \n",
       "7            Vmax HX 750 Quadcopter Drone (No Camera)       4,000.00   \n",
       "8   Avengers Captain America Drone Four Axis Aircr...       4,678.00   \n",
       "9   Olifair Pearls Saffron and Radiant Effect Nigh...       2,232.00   \n",
       "10  Sony PlayStation PS2 Gaming Console 150 GB Har...      12,289.00   \n",
       "11  BBA Online Class Live Tuition Training Program...       6,500.00   \n",
       "\n",
       "   Discounted Price in ₹                                    Product Details  \\\n",
       "0                 799.00  Cash On Delivery Available-Free Shipping Avail...   \n",
       "1                 699.00  Cash On Delivery Available-Free Shipping Avail...   \n",
       "2                 299.00  Product Detail:-Brand Candytech-Manufacturer n...   \n",
       "3                 799.00  Cash on Delivery available- ₹100 Flat Discount...   \n",
       "4                 399.00  CASH On Delivery Available-1.Yo-Gift Available...   \n",
       "5                 349.00  CASH On Delivery Available-1.Yo-Gift Available...   \n",
       "6               1,499.00  Product Detail:-Brand Reliance Jio-Model FM90-...   \n",
       "7               1,499.00  ₹100 Flat Discount use Coupon Code- yo100-Cash...   \n",
       "8               2,299.00  Cash on Delivery available-₹200 Flat Discount ...   \n",
       "9                 999.00  Cash On Delivery Available-Free Shipping Avail...   \n",
       "10              8,999.00  Product Detail--·         Box Content: PlaySta...   \n",
       "11                999.00  Welcome Kits Available-₹100 Flat Discount use ...   \n",
       "\n",
       "                                       Reviewers Name  \\\n",
       "0                                         Remya-kriti   \n",
       "1                                 Kritika-Tak-Kritika   \n",
       "2                                                       \n",
       "3   MR.L-Mr S.-SudhagarSvS-SudhagarSvS-SudhagarSvS...   \n",
       "4                                                       \n",
       "5                                               Hello   \n",
       "6   Yoshops (.-parth-Yoshops-SudhagarSvS-SudhagarS...   \n",
       "7   SudhagarSvS-SudhagarSvS-SudhagarSvS-SudhagarSv...   \n",
       "8   SudhagarSvS-SudhagarSvS-SudhagarSvS-Yoshops (....   \n",
       "9                                                       \n",
       "10  SudhagarSvS-SudhagarSvS-SudhagarSvS-SudhagarSv...   \n",
       "11                                                      \n",
       "\n",
       "                                 Reviews by Reviewers  \n",
       "0                -Thank You for Your Review-Awesome--  \n",
       "1                    -Nice product-Awesome product---  \n",
       "2                                                   -  \n",
       "3   -Thank you for your valuable feedback-Thank Yo...  \n",
       "4                                                   -  \n",
       "5                                             -good--  \n",
       "6   -'Dear Customer, Thank you for your valuable f...  \n",
       "7   -Dear Customer, Thank you for your valuable fe...  \n",
       "8   -Dear Customer, Thank you for your valuable fe...  \n",
       "9                                                   -  \n",
       "10  -Dear Customer, Thank you for your valuable fe...  \n",
       "11                                                  -  "
      ]
     },
     "metadata": {},
     "output_type": "display_data"
    }
   ],
   "source": [
    "df = pd.concat([df1, df2], axis=1, join='inner')\n",
    "display(df)"
   ]
  },
  {
   "cell_type": "code",
   "execution_count": 81,
   "id": "9935eb48",
   "metadata": {},
   "outputs": [],
   "source": [
    "# creating excel writer object\n",
    "product_file = pd.ExcelWriter('yoshops-excel.xlsx')\n",
    "# write dataframe to excel\n",
    " \n",
    "df.to_excel(product_file)\n",
    " \n",
    "# save the excel\n",
    "product_file.save()"
   ]
  },
  {
   "cell_type": "code",
   "execution_count": null,
   "id": "949e3b13",
   "metadata": {},
   "outputs": [],
   "source": []
  }
 ],
 "metadata": {
  "kernelspec": {
   "display_name": "Python 3 (ipykernel)",
   "language": "python",
   "name": "python3"
  },
  "language_info": {
   "codemirror_mode": {
    "name": "ipython",
    "version": 3
   },
   "file_extension": ".py",
   "mimetype": "text/x-python",
   "name": "python",
   "nbconvert_exporter": "python",
   "pygments_lexer": "ipython3",
   "version": "3.9.7"
  }
 },
 "nbformat": 4,
 "nbformat_minor": 5
}
