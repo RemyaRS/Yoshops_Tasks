{
 "cells": [
  {
   "cell_type": "code",
   "execution_count": 1,
   "id": "4a86ff23",
   "metadata": {},
   "outputs": [
    {
     "name": "stdout",
     "output_type": "stream",
     "text": [
      "Requirement already satisfied: bs4 in c:\\users\\admin\\anaconda3\\lib\\site-packages (0.0.1)\n",
      "Requirement already satisfied: beautifulsoup4 in c:\\users\\admin\\anaconda3\\lib\\site-packages (from bs4) (4.10.0)\n",
      "Requirement already satisfied: soupsieve>1.2 in c:\\users\\admin\\anaconda3\\lib\\site-packages (from beautifulsoup4->bs4) (2.2.1)\n",
      "Note: you may need to restart the kernel to use updated packages.\n"
     ]
    }
   ],
   "source": [
    "pip install bs4"
   ]
  },
  {
   "cell_type": "code",
   "execution_count": 51,
   "id": "57e8ab01",
   "metadata": {},
   "outputs": [
    {
     "name": "stdout",
     "output_type": "stream",
     "text": [
      "Requirement already satisfied: python-docx in c:\\users\\admin\\anaconda3\\lib\\site-packages (0.8.11)\n",
      "Requirement already satisfied: lxml>=2.3.2 in c:\\users\\admin\\anaconda3\\lib\\site-packages (from python-docx) (4.6.3)\n",
      "Note: you may need to restart the kernel to use updated packages.\n"
     ]
    }
   ],
   "source": [
    "pip install python-docx"
   ]
  },
  {
   "cell_type": "code",
   "execution_count": 2,
   "id": "87b37822",
   "metadata": {},
   "outputs": [],
   "source": [
    "import requests\n",
    "from bs4 import BeautifulSoup as soup\n",
    "from urllib.request import urlopen as uReq"
   ]
  },
  {
   "cell_type": "code",
   "execution_count": 3,
   "id": "b86e0b4f",
   "metadata": {},
   "outputs": [],
   "source": [
    "url = \"https://yoshops.com/products/hammer-sting-lite-in-ear-wireless-bluetooth-neckband-earphones-black\"\n",
    "uClient = uReq(url)\n",
    "page_html = uClient.read()\n",
    "uClient.close()\n",
    "page_soup = soup(page_html,\"html.parser\")"
   ]
  },
  {
   "cell_type": "code",
   "execution_count": 4,
   "id": "a9555870",
   "metadata": {},
   "outputs": [],
   "source": [
    "containers1 = page_soup.findAll(\"div\", {\"class\":\"col-sm-4 single-product-img-col\"})"
   ]
  },
  {
   "cell_type": "code",
   "execution_count": 5,
   "id": "d5e5eee9",
   "metadata": {
    "scrolled": true
   },
   "outputs": [
    {
     "name": "stdout",
     "output_type": "stream",
     "text": [
      "<div class=\"col-sm-4 single-product-img-col\">\n",
      " <div class=\"single-product-zoom\" data-target=\"#product-modal\" data-toggle=\"modal\" id=\"product-zoom\">\n",
      "  <img alt=\"Hammer Sting Lite In-Ear Wireless Bluetooth Neckband Earphones Black\" class=\"single-product-img\" id=\"product-image\" src=\"https://isteam.wsimg.com/ip/a8efe83b-6857-477d-9d0f-f13ca0229a20/ols/3871_original/:/rs=w:600,h:600\"/>\n",
      "  <div class=\"overlay\">\n",
      "   <span class=\"glyphicon glyphicon-fullscreen\">\n",
      "   </span>\n",
      "  </div>\n",
      " </div>\n",
      " <ul class=\"single-product-thumbs\" id=\"product-thumbs\">\n",
      "  <li class=\"active\" data-url=\"https://isteam.wsimg.com/ip/a8efe83b-6857-477d-9d0f-f13ca0229a20/ols/3871_original/:/rs=w:600,h:600\">\n",
      "   <div style='background-image:url(\"https://isteam.wsimg.com/ip/a8efe83b-6857-477d-9d0f-f13ca0229a20/ols/3871_original/:/rs=w:100,h:100\");'>\n",
      "   </div>\n",
      "  </li>\n",
      "  <li class=\"\" data-url=\"https://isteam.wsimg.com/ip/a8efe83b-6857-477d-9d0f-f13ca0229a20/ols/3872_original/:/rs=w:600,h:600\">\n",
      "   <div style='background-image:url(\"https://isteam.wsimg.com/ip/a8efe83b-6857-477d-9d0f-f13ca0229a20/ols/3872_original/:/rs=w:100,h:100\");'>\n",
      "   </div>\n",
      "  </li>\n",
      "  <li class=\"\" data-url=\"https://isteam.wsimg.com/ip/a8efe83b-6857-477d-9d0f-f13ca0229a20/ols/3873_original/:/rs=w:600,h:600\">\n",
      "   <div style='background-image:url(\"https://isteam.wsimg.com/ip/a8efe83b-6857-477d-9d0f-f13ca0229a20/ols/3873_original/:/rs=w:100,h:100\");'>\n",
      "   </div>\n",
      "  </li>\n",
      "  <li class=\"\" data-url=\"https://isteam.wsimg.com/ip/a8efe83b-6857-477d-9d0f-f13ca0229a20/ols/3874_original/:/rs=w:600,h:600\">\n",
      "   <div style='background-image:url(\"https://isteam.wsimg.com/ip/a8efe83b-6857-477d-9d0f-f13ca0229a20/ols/3874_original/:/rs=w:100,h:100\");'>\n",
      "   </div>\n",
      "  </li>\n",
      "  <li class=\"\" data-url=\"https://isteam.wsimg.com/ip/a8efe83b-6857-477d-9d0f-f13ca0229a20/ols/3875_original/:/rs=w:600,h:600\">\n",
      "   <div style='background-image:url(\"https://isteam.wsimg.com/ip/a8efe83b-6857-477d-9d0f-f13ca0229a20/ols/3875_original/:/rs=w:100,h:100\");'>\n",
      "   </div>\n",
      "  </li>\n",
      "  <li class=\"\" data-url=\"https://isteam.wsimg.com/ip/a8efe83b-6857-477d-9d0f-f13ca0229a20/ols/3876_original/:/rs=w:600,h:600\">\n",
      "   <div style='background-image:url(\"https://isteam.wsimg.com/ip/a8efe83b-6857-477d-9d0f-f13ca0229a20/ols/3876_original/:/rs=w:100,h:100\");'>\n",
      "   </div>\n",
      "  </li>\n",
      " </ul>\n",
      "</div>\n",
      "\n"
     ]
    }
   ],
   "source": [
    "print(soup.prettify(containers1[0]))"
   ]
  },
  {
   "cell_type": "code",
   "execution_count": 6,
   "id": "937eadef",
   "metadata": {},
   "outputs": [],
   "source": [
    "container1 =  containers1[0]"
   ]
  },
  {
   "cell_type": "code",
   "execution_count": 7,
   "id": "6dad2eeb",
   "metadata": {},
   "outputs": [
    {
     "name": "stdout",
     "output_type": "stream",
     "text": [
      "https://isteam.wsimg.com/ip/a8efe83b-6857-477d-9d0f-f13ca0229a20/ols/3871_original/:/rs=w:600,h:600\n"
     ]
    }
   ],
   "source": [
    "image_link = container1.div.img['src']\n",
    "print(image_link)"
   ]
  },
  {
   "cell_type": "code",
   "execution_count": 8,
   "id": "434a0f3a",
   "metadata": {},
   "outputs": [],
   "source": [
    "import requests\n",
    "from PIL import Image\n",
    "\n",
    "im = Image.open(requests.get(image_link, stream=True).raw)\n",
    "im.save(\"F:/task4_3_img.jpg\")"
   ]
  },
  {
   "cell_type": "code",
   "execution_count": 9,
   "id": "f3b9bcd3",
   "metadata": {},
   "outputs": [
    {
     "name": "stdout",
     "output_type": "stream",
     "text": [
      "Hammer Sting Lite In-Ear Wireless Bluetooth Neckband Earphones Black\n"
     ]
    }
   ],
   "source": [
    "heading = container1.div.img['alt']\n",
    "print(heading)"
   ]
  },
  {
   "cell_type": "code",
   "execution_count": 10,
   "id": "1676fb47",
   "metadata": {},
   "outputs": [],
   "source": [
    "containers2 = page_soup.findAll(\"div\", {\"class\":\"col-sm-5\"})\n",
    "container2 =  containers2[0]"
   ]
  },
  {
   "cell_type": "code",
   "execution_count": 11,
   "id": "0b70fe93",
   "metadata": {},
   "outputs": [
    {
     "name": "stdout",
     "output_type": "stream",
     "text": [
      "<div class=\"col-sm-5\">\n",
      " <h1 class=\"single-product-title\" id=\"product-name\">\n",
      "  Hammer Sting Lite In-Ear Wireless Bluetooth Neckband Earphones Black\n",
      " </h1>\n",
      " <div class=\"single-product-review\">\n",
      "  <div data-tab-target=\"#reviews\" href=\"#productTabs\">\n",
      "   <div class=\"yotpo bottomLine\" data-appkey=\"blvTZfFxLLY4ORJETmn8JsqzVHfudrJxLDPnwDXb\" data-description=\"Cash On Delivery Available Free Shipping  Available Free One Gift Available (Wired Headset With Mic) Use Coupon Code for 5% Discount:   N eha@gift   Product Details: Model Name: Sting Lite Color: Black Headphone Type: Neckband Connectivity: Bluetooth Headphone Design: Behind the Neck Accessories :USB Charging Cable Sweat Proof: Yes Deep Bass: Yes Water Resistant: Yes Designed For: iOS/Android, Windows Indicators: No Controls: With multi-function Physical Button control you can play / pause music, next/ previous song, increase/ decrease volume, answer / reject calls and activate Siri / Google voice assistant. Battery Type: Lithium Ion Polymer Battery Life:40 hr Battery Capacity:250 mAh Charging Time:2 Play Time:40 hr Standby Time:40 hr Warranty: Domestic Warranty 1 Year Warranty Summary: Hammer Sting Lite comes with 12 months Replacement warranty only in case of manufacturing defects. Product Registration is mandatory at Hammeronline.in within 10 days of your purchase to claim the warranty. Customer Care: Email: info@hammeronline.in &amp; MOB: 9991 108 081 Warranty Service Type:Off Site Product Description: Hammer Sting Lite wireless earphone with neck band design are great for easy and comfortable use. These earphones neckband are powered by Bluetooth5.0 for quick and secure connection, it allows instant pairing with the device. These cordless earphones for mobile are IPX4 rated for sweat evidence, it isn't recommended to use these under heavy water conditions similar as rain, or swimming, it may lead to bond void. These neckband Bluetooth headphones can last up to 20 hours of music playtime at 60 volume, it varies grounded on the operation. Earphones Bluetooth wireless have 10 mm sound motorist for crisp sound. Voice Sidekicks like Siri and Google can be enabled by double clicking on the upper volume button. Connects snappily and securely with Auto Pair Technology of the neck band headphones. You can groove to your favourite beats with its 10 mm sound motorists. Feather light design for easy portability. These neckband earphones are IPX4 rated for your long and worry- free spa sessions. With its 250 mAh battery size, you can enjoy your music for up to 20 hours. Rearmost Bluetooth5.0 Connects snappily and securely with Auto Pair Technology of the neck band headphones Power Bass You can groove to your favourite beats with its 10 mm sound motorists Snipper Design Feather light design for easy portability, . Sweat evidence These neckband earphones are IPX4 rated for your long and worry- free spa sessions Long Lasting Battery With its 250 mAh battery size, you can enjoy your music for over to 20 hours\" data-domain=\"https://yoshops.com\" data-image-url=\"https%3A%2F%2Fisteam.wsimg.com%2Fip%2Fa8efe83b-6857-477d-9d0f-f13ca0229a20%2Fols%2F3871_original%2F%3A%2Frs%3Dw%3A600%2Ch%3A600\" data-name=\"Hammer Sting Lite In-Ear Wireless Bluetooth Neckband Earphones Black\" data-product-id=\"550\" data-url=\"https%3A%2F%2Fyoshops.com%2Fproducts%2Fhammer-sting-lite-in-ear-wireless-bluetooth-neckband-earphones-black\" style=\"display:inline-block; width:auto;\">\n",
      "   </div>\n",
      "  </div>\n",
      " </div>\n",
      " <div class=\"single-product-description\">\n",
      "  <div id=\"product-description-height\">\n",
      "   <ul style=\"margin-bottom:11px;\">\n",
      "    <li style=\"\">\n",
      "     <b style=\"font-weight:bold;\">\n",
      "      <font color=\"#000000\" style=\"background-color:rgb(255, 255, 255);\">\n",
      "       Cash On Delivery Available\n",
      "      </font>\n",
      "     </b>\n",
      "    </li>\n",
      "    <li style=\"\">\n",
      "     <font color=\"#000000\" style=\"background-color:rgb(255, 255, 255);\">\n",
      "      <b style=\"font-weight:bold;\">\n",
      "       Free Shipping\n",
      "      </b>\n",
      "      <b>\n",
      "       Available\n",
      "      </b>\n",
      "     </font>\n",
      "    </li>\n",
      "    <li style=\"\">\n",
      "     <font color=\"#000000\" style=\"background-color:rgb(255, 255, 255);\">\n",
      "      <b style=\"font-weight:bold;\">\n",
      "       Free One Gift Available\n",
      "      </b>\n",
      "      <b>\n",
      "       (Wired Headset With Mic)\n",
      "      </b>\n",
      "     </font>\n",
      "    </li>\n",
      "    <li style=\"\">\n",
      "     <font color=\"#000000\" style=\"background-color:rgb(255, 255, 255);\">\n",
      "      <b>\n",
      "       Use Coupon Code for 5% Discount:\n",
      "      </b>\n",
      "      <b>\n",
      "       N\n",
      "      </b>\n",
      "      <b>\n",
      "       eha@gift\n",
      "      </b>\n",
      "     </font>\n",
      "    </li>\n",
      "   </ul>\n",
      "   <p>\n",
      "    <font color=\"#000000\" style=\"background-color:rgb(255, 255, 255);\">\n",
      "     <span style=\"font-weight:700;\">\n",
      "      Product Details:\n",
      "     </span>\n",
      "     <b>\n",
      "      <br/>\n",
      "     </b>\n",
      "    </font>\n",
      "   </p>\n",
      "   <p>\n",
      "    <font color=\"#000000\">\n",
      "     <b>\n",
      "      <br/>\n",
      "     </b>\n",
      "    </font>\n",
      "   </p>\n",
      "   <p>\n",
      "    <font color=\"#000000\">\n",
      "     <b>\n",
      "      Model Name: Sting Lite\n",
      "     </b>\n",
      "    </font>\n",
      "   </p>\n",
      "   <p>\n",
      "    <font color=\"#000000\">\n",
      "     <b>\n",
      "      Color: Black\n",
      "     </b>\n",
      "    </font>\n",
      "   </p>\n",
      "   <p>\n",
      "    <font color=\"#000000\">\n",
      "     <b>\n",
      "      Headphone Type: Neckband\n",
      "     </b>\n",
      "    </font>\n",
      "   </p>\n",
      "   <p>\n",
      "    <font color=\"#000000\">\n",
      "     <b>\n",
      "      Connectivity: Bluetooth\n",
      "     </b>\n",
      "    </font>\n",
      "   </p>\n",
      "   <p>\n",
      "    <font color=\"#000000\">\n",
      "     <b>\n",
      "      Headphone Design: Behind the Neck\n",
      "     </b>\n",
      "    </font>\n",
      "   </p>\n",
      "   <p>\n",
      "    <font color=\"#000000\">\n",
      "     <b>\n",
      "      Accessories :USB Charging Cable\n",
      "     </b>\n",
      "    </font>\n",
      "   </p>\n",
      "   <p>\n",
      "    <font color=\"#000000\">\n",
      "     <b>\n",
      "      Sweat Proof: Yes\n",
      "     </b>\n",
      "    </font>\n",
      "   </p>\n",
      "   <p>\n",
      "    <font color=\"#000000\">\n",
      "     <b>\n",
      "      Deep Bass: Yes\n",
      "     </b>\n",
      "    </font>\n",
      "   </p>\n",
      "   <p>\n",
      "    <font color=\"#000000\">\n",
      "     <b>\n",
      "      Water Resistant: Yes\n",
      "     </b>\n",
      "    </font>\n",
      "   </p>\n",
      "   <p>\n",
      "    <font color=\"#000000\">\n",
      "     <b>\n",
      "      Designed For: iOS/Android, Windows\n",
      "     </b>\n",
      "    </font>\n",
      "   </p>\n",
      "   <p>\n",
      "    <font color=\"#000000\">\n",
      "     <b>\n",
      "      Indicators: No\n",
      "     </b>\n",
      "    </font>\n",
      "   </p>\n",
      "   <p>\n",
      "    <font color=\"#000000\">\n",
      "     <b>\n",
      "      Controls: With multi-function Physical Button control you can play / pause music, next/ previous song, increase/ decrease volume, answer / reject calls and activate Siri / Google voice assistant.\n",
      "     </b>\n",
      "    </font>\n",
      "   </p>\n",
      "   <p>\n",
      "    <font color=\"#000000\">\n",
      "     <b>\n",
      "      Battery Type: Lithium Ion Polymer\n",
      "     </b>\n",
      "    </font>\n",
      "   </p>\n",
      "   <p>\n",
      "    <font color=\"#000000\">\n",
      "     <b>\n",
      "      Battery Life:40 hr\n",
      "     </b>\n",
      "    </font>\n",
      "   </p>\n",
      "   <p>\n",
      "    <font color=\"#000000\">\n",
      "     <b>\n",
      "      Battery Capacity:250 mAh\n",
      "     </b>\n",
      "    </font>\n",
      "   </p>\n",
      "   <p>\n",
      "    <font color=\"#000000\">\n",
      "     <b>\n",
      "      Charging Time:2\n",
      "     </b>\n",
      "    </font>\n",
      "   </p>\n",
      "   <p>\n",
      "    <font color=\"#000000\">\n",
      "     <b>\n",
      "      Play Time:40 hr\n",
      "     </b>\n",
      "    </font>\n",
      "   </p>\n",
      "   <p>\n",
      "    <font color=\"#000000\">\n",
      "     <b>\n",
      "      Standby Time:40 hr\n",
      "     </b>\n",
      "    </font>\n",
      "   </p>\n",
      "   <p>\n",
      "    <font color=\"#000000\">\n",
      "     <b style=\"background-color:rgb(255, 255, 255);\">\n",
      "      Warranty: Domestic Warranty 1 Year\n",
      "     </b>\n",
      "    </font>\n",
      "   </p>\n",
      "   <p>\n",
      "    <font color=\"#000000\">\n",
      "     <span style=\"background-color:rgb(255, 255, 255);\">\n",
      "      <b>\n",
      "       Warranty Summary: Hammer Sting Lite comes with 12 months Replacement warranty only in case of manufacturing defects. Product Registration is mandatory at Hammeronline.in within 10 days of your purchase to claim the warranty. Customer Care: Email: info@hammeronline.in &amp; MOB: 9991 108 081\n",
      "      </b>\n",
      "     </span>\n",
      "    </font>\n",
      "   </p>\n",
      "   <p>\n",
      "    <font color=\"#000000\">\n",
      "     <b style=\"background-color:rgb(255, 255, 255);\">\n",
      "      Warranty Service Type:Off Site\n",
      "     </b>\n",
      "    </font>\n",
      "   </p>\n",
      "   <p>\n",
      "    <font color=\"#000000\" style=\"background-color:rgb(255, 255, 255);\">\n",
      "     <span style=\"font-family:Arial , sans-serif;font-size:24px;font-weight:700;\">\n",
      "      Product Description:\n",
      "     </span>\n",
      "     <br/>\n",
      "    </font>\n",
      "   </p>\n",
      "   <h5>\n",
      "    <font color=\"#000000\">\n",
      "     <b>\n",
      "      Hammer Sting Lite\n",
      "     </b>\n",
      "     wireless earphone with neck band design are great for easy and comfortable use. These\n",
      "     <b>\n",
      "      earphones\n",
      "     </b>\n",
      "     neckband are powered by Bluetooth5.0 for quick and secure connection, it allows instant pairing with the device. These cordless earphones for mobile are IPX4 rated for sweat evidence, it isn't recommended to use these under heavy water conditions similar as rain, or swimming, it may lead to bond void. These neckband Bluetooth headphones can last up to 20 hours of music playtime at 60 volume, it varies grounded on the operation.\n",
      "     <b>\n",
      "      Earphones Bluetooth wireless\n",
      "     </b>\n",
      "     have 10 mm sound motorist for crisp sound. Voice Sidekicks like Siri and Google can be enabled by double clicking on the upper volume button.\n",
      "    </font>\n",
      "   </h5>\n",
      "   <h5>\n",
      "    <font color=\"#000000\">\n",
      "     Connects snappily and securely with Auto Pair Technology of the neck band headphones. You can groove to your favourite beats with its 10 mm sound motorists. Feather light design for easy portability. These neckband earphones are IPX4 rated for your long and worry- free spa sessions. With its 250 mAh battery size, you can enjoy your music for up to 20 hours.\n",
      "    </font>\n",
      "   </h5>\n",
      "   <ul>\n",
      "    <li>\n",
      "     <span style=\"color:rgb(0, 0, 0);\">\n",
      "      Rearmost Bluetooth5.0 Connects snappily and securely with Auto Pair Technology of the neck band headphones\n",
      "     </span>\n",
      "     <br/>\n",
      "    </li>\n",
      "    <li>\n",
      "     <font color=\"#000000\">\n",
      "      Power Bass You can groove to your favourite beats with its 10 mm sound motorists\n",
      "     </font>\n",
      "    </li>\n",
      "    <li>\n",
      "     <font color=\"#000000\">\n",
      "      Snipper Design Feather light design for easy portability,\n",
      "     </font>\n",
      "    </li>\n",
      "    <li>\n",
      "     <font color=\"#000000\">\n",
      "      . Sweat evidence These neckband earphones are IPX4 rated for your long and worry- free spa sessions\n",
      "     </font>\n",
      "    </li>\n",
      "    <li>\n",
      "     Long Lasting Battery With its 250 mAh battery size, you can enjoy your music for over to 20 hours\n",
      "     <font color=\"#000000\">\n",
      "     </font>\n",
      "    </li>\n",
      "   </ul>\n",
      "   <h5>\n",
      "    <br/>\n",
      "   </h5>\n",
      "   <h5>\n",
      "   </h5>\n",
      "   <p>\n",
      "   </p>\n",
      "  </div>\n",
      " </div>\n",
      " <div class=\"single-product-share\">\n",
      "  <!-- AddThis Button BEGIN -->\n",
      "  <div class=\"addthis_toolbox addthis_default_style addthis_32x32_style\">\n",
      "   <a class=\"addthis_button_preferred_1\">\n",
      "   </a>\n",
      "   <a class=\"addthis_button_preferred_2\">\n",
      "   </a>\n",
      "   <a class=\"addthis_button_preferred_3\">\n",
      "   </a>\n",
      "   <a class=\"addthis_button_preferred_4\">\n",
      "   </a>\n",
      "   <a class=\"addthis_button_compact\">\n",
      "   </a>\n",
      "   <a class=\"addthis_counter addthis_bubble_style\">\n",
      "   </a>\n",
      "  </div>\n",
      "  <script type=\"text/javascript\">\n",
      "   DeferredLoader.addScript(\"//s7.addthis.com/js/300/addthis_widget.js#pubid=xa-533b315e1e8a93af\");\n",
      "  </script>\n",
      "  <!-- AddThis Button END -->\n",
      " </div>\n",
      "</div>\n",
      "\n"
     ]
    }
   ],
   "source": [
    "print(soup.prettify(container2))"
   ]
  },
  {
   "cell_type": "code",
   "execution_count": 12,
   "id": "4ffcb473",
   "metadata": {},
   "outputs": [
    {
     "name": "stdout",
     "output_type": "stream",
     "text": [
      "Hammer Sting Lite In-Ear Wireless Bluetooth Neckband Earphones Black\n"
     ]
    }
   ],
   "source": [
    "heading = container2.findAll(\"h1\",{\"class\":\"single-product-title\"})\n",
    "print(heading[0].text)"
   ]
  },
  {
   "cell_type": "code",
   "execution_count": 13,
   "id": "e3583d8e",
   "metadata": {},
   "outputs": [
    {
     "name": "stdout",
     "output_type": "stream",
     "text": [
      "Cash On Delivery Available\n"
     ]
    }
   ],
   "source": [
    "available = container2.findAll(\"font\",{\"color\":\"#000000\"})\n",
    "print(available[0].text)"
   ]
  },
  {
   "cell_type": "code",
   "execution_count": 14,
   "id": "ada68891",
   "metadata": {},
   "outputs": [
    {
     "name": "stdout",
     "output_type": "stream",
     "text": [
      "Free Shipping Available\n",
      "\n"
     ]
    }
   ],
   "source": [
    "print(available[1].text)"
   ]
  },
  {
   "cell_type": "code",
   "execution_count": 15,
   "id": "41601399",
   "metadata": {},
   "outputs": [
    {
     "name": "stdout",
     "output_type": "stream",
     "text": [
      "Use Coupon Code for 5% Discount:  Neha@gift  \n",
      "\n"
     ]
    }
   ],
   "source": [
    "print(available[3].text)"
   ]
  },
  {
   "cell_type": "code",
   "execution_count": 16,
   "id": "a18c1fe3",
   "metadata": {},
   "outputs": [
    {
     "name": "stdout",
     "output_type": "stream",
     "text": [
      "Product Details:\n"
     ]
    }
   ],
   "source": [
    "print(available[4].text)"
   ]
  },
  {
   "cell_type": "code",
   "execution_count": 17,
   "id": "88ce29f2",
   "metadata": {},
   "outputs": [
    {
     "name": "stdout",
     "output_type": "stream",
     "text": [
      "Model Name: Sting Lite\n"
     ]
    }
   ],
   "source": [
    "print(available[6].text)"
   ]
  },
  {
   "cell_type": "code",
   "execution_count": 18,
   "id": "26c74c28",
   "metadata": {},
   "outputs": [
    {
     "name": "stdout",
     "output_type": "stream",
     "text": [
      "Color: Black\n"
     ]
    }
   ],
   "source": [
    "print(available[7].text)"
   ]
  },
  {
   "cell_type": "code",
   "execution_count": 19,
   "id": "6e793ab6",
   "metadata": {},
   "outputs": [
    {
     "name": "stdout",
     "output_type": "stream",
     "text": [
      "Headphone Type: Neckband\n"
     ]
    }
   ],
   "source": [
    "print(available[8].text)"
   ]
  },
  {
   "cell_type": "code",
   "execution_count": 20,
   "id": "c2b237fa",
   "metadata": {},
   "outputs": [
    {
     "name": "stdout",
     "output_type": "stream",
     "text": [
      "Connectivity: Bluetooth\n"
     ]
    }
   ],
   "source": [
    "print(available[9].text)"
   ]
  },
  {
   "cell_type": "code",
   "execution_count": 21,
   "id": "dc4d6c1c",
   "metadata": {},
   "outputs": [
    {
     "name": "stdout",
     "output_type": "stream",
     "text": [
      "Headphone Design: Behind the Neck\n"
     ]
    }
   ],
   "source": [
    "print(available[10].text)"
   ]
  },
  {
   "cell_type": "code",
   "execution_count": 22,
   "id": "ff653faa",
   "metadata": {},
   "outputs": [
    {
     "name": "stdout",
     "output_type": "stream",
     "text": [
      "Accessories :USB Charging Cable\n"
     ]
    }
   ],
   "source": [
    "print(available[11].text)"
   ]
  },
  {
   "cell_type": "code",
   "execution_count": 23,
   "id": "4927c304",
   "metadata": {},
   "outputs": [
    {
     "name": "stdout",
     "output_type": "stream",
     "text": [
      "Sweat Proof: Yes\n"
     ]
    }
   ],
   "source": [
    "print(available[12].text)"
   ]
  },
  {
   "cell_type": "code",
   "execution_count": 24,
   "id": "db59eee3",
   "metadata": {},
   "outputs": [
    {
     "name": "stdout",
     "output_type": "stream",
     "text": [
      "Deep Bass: Yes\n"
     ]
    }
   ],
   "source": [
    "print(available[13].text)"
   ]
  },
  {
   "cell_type": "code",
   "execution_count": 25,
   "id": "2790a20d",
   "metadata": {},
   "outputs": [
    {
     "name": "stdout",
     "output_type": "stream",
     "text": [
      "Water Resistant: Yes\n"
     ]
    }
   ],
   "source": [
    "print(available[14].text)"
   ]
  },
  {
   "cell_type": "code",
   "execution_count": 26,
   "id": "390f40f3",
   "metadata": {},
   "outputs": [
    {
     "name": "stdout",
     "output_type": "stream",
     "text": [
      "Designed For: iOS/Android, Windows\n"
     ]
    }
   ],
   "source": [
    "print(available[15].text)"
   ]
  },
  {
   "cell_type": "code",
   "execution_count": 27,
   "id": "c58473e7",
   "metadata": {},
   "outputs": [
    {
     "name": "stdout",
     "output_type": "stream",
     "text": [
      "Indicators: No\n"
     ]
    }
   ],
   "source": [
    "print(available[16].text)"
   ]
  },
  {
   "cell_type": "code",
   "execution_count": 28,
   "id": "fa38c283",
   "metadata": {},
   "outputs": [
    {
     "name": "stdout",
     "output_type": "stream",
     "text": [
      "Controls: With multi-function Physical Button control you can play / pause music, next/ previous song, increase/ decrease volume, answer / reject calls and activate Siri / Google voice assistant.\n"
     ]
    }
   ],
   "source": [
    "print(available[17].text)"
   ]
  },
  {
   "cell_type": "code",
   "execution_count": 29,
   "id": "b20f7eed",
   "metadata": {},
   "outputs": [
    {
     "name": "stdout",
     "output_type": "stream",
     "text": [
      "Battery Type: Lithium Ion Polymer\n"
     ]
    }
   ],
   "source": [
    "print(available[18].text)"
   ]
  },
  {
   "cell_type": "code",
   "execution_count": 30,
   "id": "f16be285",
   "metadata": {},
   "outputs": [
    {
     "name": "stdout",
     "output_type": "stream",
     "text": [
      "Battery Life:40 hr\n"
     ]
    }
   ],
   "source": [
    "print(available[19].text)"
   ]
  },
  {
   "cell_type": "code",
   "execution_count": 31,
   "id": "244a4781",
   "metadata": {},
   "outputs": [
    {
     "name": "stdout",
     "output_type": "stream",
     "text": [
      "Battery Capacity:250 mAh\n"
     ]
    }
   ],
   "source": [
    "print(available[20].text)"
   ]
  },
  {
   "cell_type": "code",
   "execution_count": 32,
   "id": "14dcefd8",
   "metadata": {},
   "outputs": [
    {
     "name": "stdout",
     "output_type": "stream",
     "text": [
      "Charging Time:2\n"
     ]
    }
   ],
   "source": [
    "print(available[21].text)"
   ]
  },
  {
   "cell_type": "code",
   "execution_count": 33,
   "id": "fe67d864",
   "metadata": {},
   "outputs": [
    {
     "name": "stdout",
     "output_type": "stream",
     "text": [
      "Play Time:40 hr\n"
     ]
    }
   ],
   "source": [
    "print(available[22].text)"
   ]
  },
  {
   "cell_type": "code",
   "execution_count": 34,
   "id": "832fb41e",
   "metadata": {},
   "outputs": [
    {
     "name": "stdout",
     "output_type": "stream",
     "text": [
      "Standby Time:40 hr\n"
     ]
    }
   ],
   "source": [
    "print(available[23].text)"
   ]
  },
  {
   "cell_type": "code",
   "execution_count": 35,
   "id": "8eeede64",
   "metadata": {},
   "outputs": [
    {
     "name": "stdout",
     "output_type": "stream",
     "text": [
      "Warranty: Domestic Warranty 1 Year\n"
     ]
    }
   ],
   "source": [
    "print(available[24].text)"
   ]
  },
  {
   "cell_type": "code",
   "execution_count": 36,
   "id": "a5c84e83",
   "metadata": {},
   "outputs": [
    {
     "name": "stdout",
     "output_type": "stream",
     "text": [
      "Warranty Summary: Hammer Sting Lite comes with 12 months Replacement warranty only in case of manufacturing defects. Product Registration is mandatory at Hammeronline.in within 10 days of your purchase to claim the warranty. Customer Care: Email: info@hammeronline.in & MOB: 9991 108 081\n"
     ]
    }
   ],
   "source": [
    "print(available[25].text)"
   ]
  },
  {
   "cell_type": "code",
   "execution_count": 37,
   "id": "8d8a1e21",
   "metadata": {},
   "outputs": [
    {
     "name": "stdout",
     "output_type": "stream",
     "text": [
      "Warranty Service Type:Off Site\n"
     ]
    }
   ],
   "source": [
    "print(available[26].text)"
   ]
  },
  {
   "cell_type": "code",
   "execution_count": 38,
   "id": "de53e3c4",
   "metadata": {},
   "outputs": [
    {
     "name": "stdout",
     "output_type": "stream",
     "text": [
      "Product Description:\n"
     ]
    }
   ],
   "source": [
    "print(available[27].text)"
   ]
  },
  {
   "cell_type": "code",
   "execution_count": 39,
   "id": "d770f30f",
   "metadata": {},
   "outputs": [
    {
     "name": "stdout",
     "output_type": "stream",
     "text": [
      "Hammer Sting Lite wireless earphone with neck band design are great for easy and comfortable use. These earphones neckband are powered by Bluetooth5.0 for quick and secure connection, it allows instant pairing with the device. These cordless earphones for mobile are IPX4 rated for sweat evidence, it isn't recommended to use these under heavy water conditions similar as rain, or swimming, it may lead to bond void. These neckband Bluetooth headphones can last up to 20 hours of music playtime at 60 volume, it varies grounded on the operation. Earphones Bluetooth wireless have 10 mm sound motorist for crisp sound. Voice Sidekicks like Siri and Google can be enabled by double clicking on the upper volume button.\n"
     ]
    }
   ],
   "source": [
    "print(available[28].text)"
   ]
  },
  {
   "cell_type": "code",
   "execution_count": 40,
   "id": "b4eb9690",
   "metadata": {},
   "outputs": [
    {
     "name": "stdout",
     "output_type": "stream",
     "text": [
      "Connects snappily and securely with Auto Pair Technology of the neck band headphones. You can groove to your favourite beats with its 10 mm sound motorists. Feather light design for easy portability. These neckband earphones are IPX4 rated for your long and worry- free spa sessions. With its 250 mAh battery size, you can enjoy your music for up to 20 hours.\n"
     ]
    }
   ],
   "source": [
    "print(available[29].text)"
   ]
  },
  {
   "cell_type": "code",
   "execution_count": 41,
   "id": "898732be",
   "metadata": {},
   "outputs": [
    {
     "name": "stdout",
     "output_type": "stream",
     "text": [
      "Power Bass You can groove to your favourite beats with its 10 mm sound motorists\n"
     ]
    }
   ],
   "source": [
    "print(available[30].text)"
   ]
  },
  {
   "cell_type": "code",
   "execution_count": 42,
   "id": "26bc8d9a",
   "metadata": {},
   "outputs": [
    {
     "name": "stdout",
     "output_type": "stream",
     "text": [
      "Snipper Design Feather light design for easy portability,\n"
     ]
    }
   ],
   "source": [
    "print(available[31].text)"
   ]
  },
  {
   "cell_type": "code",
   "execution_count": 43,
   "id": "f13a2a5f",
   "metadata": {},
   "outputs": [
    {
     "name": "stdout",
     "output_type": "stream",
     "text": [
      ". Sweat evidence These neckband earphones are IPX4 rated for your long and worry- free spa sessions\n"
     ]
    }
   ],
   "source": [
    "print(available[32].text)"
   ]
  },
  {
   "cell_type": "code",
   "execution_count": 44,
   "id": "cc267386",
   "metadata": {},
   "outputs": [],
   "source": [
    "containers3 = page_soup.findAll(\"div\", {\"class\":\"col-sm-3\"})\n",
    "container3 =  containers3[0]"
   ]
  },
  {
   "cell_type": "code",
   "execution_count": 45,
   "id": "15c998d2",
   "metadata": {},
   "outputs": [
    {
     "name": "stdout",
     "output_type": "stream",
     "text": [
      "<div class=\"col-sm-3\">\n",
      " <div class=\"panel panel-default\">\n",
      "  <div class=\"panel-heading\">\n",
      "   <div class=\"single-product-price\" data-on-sale=\"true\" data-price=\"₹3,495.00\" data-price-sale=\"&lt;span class='rupee'&gt;₹&lt;/span&gt;699.00\" id=\"product-price\">\n",
      "    <span id=\"regular-price\">\n",
      "     <span class=\"rupee\">\n",
      "      ₹\n",
      "     </span>\n",
      "     3,495.00\n",
      "    </span>\n",
      "    <span class=\"has-free-ship\" id=\"sale-price\">\n",
      "     <span class=\"rupee\">\n",
      "      ₹\n",
      "     </span>\n",
      "     699.00\n",
      "    </span>\n",
      "    <div class=\"free-shipping\">\n",
      "     <div class=\"ship-table\">\n",
      "      <svg enable-background=\"new 6.943 12.685 20 14\" id=\"Layer_1\" version=\"1.1\" viewbox=\"6.943 12.685 20 14\" x=\"0px\" xml:space=\"preserve\" xmlns=\"http://www.w3.org/2000/svg\" xmlns:xlink=\"http://www.w3.org/1999/xlink\" y=\"0px\">\n",
      "       <path d=\"M39.451,34.034c0,2.032-1.578,3.61-3.611,3.61s-3.611-1.578-3.611-3.61\n",
      "      s1.578-3.611,3.611-3.611S39.451,32.002,39.451,34.034z M35.612,32.002c-1.13,0-1.806,0.902-1.806,1.805s0.902,1.806,1.806,1.806\n",
      "      c1.13,0,1.806-0.903,1.806-1.806S36.742,32.002,35.612,32.002z\" display=\"none\">\n",
      "       </path>\n",
      "       <rect display=\"none\" height=\"15.581\" width=\"20.322\" x=\"6.938\" y=\"13.03\">\n",
      "       </rect>\n",
      "       <path d=\"M17.999,33.58c0,2.032-1.578,3.61-3.611,3.61s-3.611-1.578-3.611-3.61\n",
      "      c0-2.033,1.579-3.611,3.611-3.611S17.999,31.547,17.999,33.58z M14.388,31.773c-1.13,0-1.806,0.903-1.806,1.807\n",
      "      c0,0.902,0.903,1.805,1.806,1.805s1.806-0.902,1.806-1.805C16.193,32.677,15.291,31.773,14.388,31.773z\" display=\"none\">\n",
      "       </path>\n",
      "       <path d=\"M28.384,34.255V19.356V17.55h8.358c0,0,6.32,0.455,6.32,6.32v8.579l-1.357,1.578h-0.903\n",
      "      c0,0,0.454-5.644-5.417-5.644c0,0-5.195-0.228-5.195,5.644h-1.806V34.255z M37.19,19.804c-2.708,0-4.065,0-4.065,0v3.384h5.645\n",
      "      h1.805C40.581,23.194,39.678,19.804,37.19,19.804z\" display=\"none\">\n",
      "       </path>\n",
      "       <path d=\"M6.938,29.969h3.611c0,0-1.806,1.805-1.578,4.293H6.938V29.969z\" display=\"none\">\n",
      "       </path>\n",
      "       <path d=\"M27.26,29.969h-9.034c0,0,1.806,1.805,1.578,4.293h7.45v-4.293H27.26z\" display=\"none\">\n",
      "       </path>\n",
      "       <path d=\"M10.976,22.635c1.119,0,2.025,0.907,2.025,2.026c0,1.119-0.906,2.025-2.025,2.025c-1.118,0-2.029-0.902-2.029-2.025\n",
      "      C8.946,23.542,9.857,22.635,10.976,22.635z M9.927,24.661c0,0.578,0.468,1.048,1.049,1.048c0.582,0,1.049-0.466,1.049-1.048\n",
      "      c0-0.578-0.468-1.05-1.049-1.05C10.395,23.611,9.927,24.083,9.927,24.661z\">\n",
      "       </path>\n",
      "       <rect height=\"8.974\" width=\"11.24\" x=\"15.703\" y=\"12.685\">\n",
      "       </rect>\n",
      "       <path d=\"M22.857,22.635c1.119,0,2.026,0.907,2.026,2.026c0,1.119-0.907,2.025-2.026,2.025c-1.118,0-2.026-0.906-2.026-2.025\n",
      "      C20.832,23.542,21.739,22.635,22.857,22.635z M21.808,24.661c0,0.577,0.467,1.048,1.049,1.048c0.577,0,1.05-0.468,1.05-1.048\n",
      "      c0-0.581-0.469-1.05-1.05-1.05C22.279,23.611,21.808,24.08,21.808,24.661z\">\n",
      "       </path>\n",
      "       <path d=\"M13.956,24.813c0-3.235-2.863-3.155-2.863-3.155c-3.294,0-2.979,3.155-2.979,3.155H7.682l-0.738-0.936v-4.77\n",
      "      c0-3.254,3.469-3.565,3.469-3.565h4.6v0.995v8.28h-1.057V24.813z M8.318,18.658h0.955h3.155v-1.89c0,0-0.684,0-2.219,0\n",
      "      C8.727,16.771,8.318,18.658,8.318,18.658z\">\n",
      "       </path>\n",
      "       <path d=\"M26.943,22.416h-1.959c0,0,1.032,1.005,0.853,2.409h1.106V22.416z\">\n",
      "       </path>\n",
      "       <path d=\"M15.703,22.416h5.009c0,0-1.032,1.005-0.852,2.409h-4.157V22.416z\">\n",
      "       </path>\n",
      "      </svg>\n",
      "      <span>\n",
      "       Free Shipping!\n",
      "      </span>\n",
      "     </div>\n",
      "    </div>\n",
      "   </div>\n",
      "  </div>\n",
      "  <form class=\"form-vertical panel-body\" id=\"product-form\">\n",
      "   <script type=\"text/javascript\">\n",
      "    window.variantMap = {\"\":{\"value_ids\":[],\"id\":704,\"price\":3495.0,\"price_sale\":699.0,\"on_sale\":true,\"out_of_stock\":false}} || {};\n",
      "   </script>\n",
      "   <div class=\"required-legend pull-right\" style=\"display: none;\">\n",
      "    Required\n",
      "   </div>\n",
      "   <div class=\"form-group form-group-qty\">\n",
      "    <label>\n",
      "     QTY\n",
      "    </label>\n",
      "    <input class=\"form-control single-product-qty input-sm\" id=\"product-quantity\" max=\"999\" min=\"1\" name=\"quantity\" pattern=\"[0-9]*\" type=\"number\" value=\"1\"/>\n",
      "    <input name=\"variant_id\" type=\"hidden\" value=\"704\"/>\n",
      "   </div>\n",
      "   <div class=\"form-group text-center\">\n",
      "    <input class=\"btn btn-primary\" data-adding=\"ADDING TO CART...\" id=\"product-submit\" type=\"submit\" value=\"Add to Cart\"/>\n",
      "   </div>\n",
      "   <div id=\"quantity-warning\">\n",
      "   </div>\n",
      "  </form>\n",
      " </div>\n",
      "</div>\n",
      "\n"
     ]
    }
   ],
   "source": [
    "print(soup.prettify(containers3[0]))"
   ]
  },
  {
   "cell_type": "code",
   "execution_count": 46,
   "id": "d4521ffb",
   "metadata": {},
   "outputs": [
    {
     "name": "stdout",
     "output_type": "stream",
     "text": [
      "₹3,495.00\n"
     ]
    }
   ],
   "source": [
    "price = container3.findAll(\"span\",{\"id\":\"regular-price\"})\n",
    "old_price=price[0].text\n",
    "print(old_price)"
   ]
  },
  {
   "cell_type": "code",
   "execution_count": 47,
   "id": "5aa5dac8",
   "metadata": {},
   "outputs": [
    {
     "name": "stdout",
     "output_type": "stream",
     "text": [
      "₹699.00\n"
     ]
    }
   ],
   "source": [
    "dis_price = container3.findAll(\"span\",{\"id\":\"sale-price\"})\n",
    "new_price=dis_price[0].text\n",
    "print(new_price)"
   ]
  },
  {
   "cell_type": "code",
   "execution_count": 48,
   "id": "c1852290",
   "metadata": {},
   "outputs": [
    {
     "name": "stdout",
     "output_type": "stream",
     "text": [
      "['free-shipping']\n"
     ]
    }
   ],
   "source": [
    "shipping = container3.div.div.div.div['class']\n",
    "print(shipping)"
   ]
  },
  {
   "cell_type": "markdown",
   "id": "2ab4783d",
   "metadata": {},
   "source": [
    "# Create Document"
   ]
  },
  {
   "cell_type": "code",
   "execution_count": 80,
   "id": "a6ae7754",
   "metadata": {},
   "outputs": [],
   "source": [
    "mydoc = docx.Document()"
   ]
  },
  {
   "cell_type": "code",
   "execution_count": 81,
   "id": "4c166ac4",
   "metadata": {},
   "outputs": [
    {
     "data": {
      "text/plain": [
       "<docx.text.paragraph.Paragraph at 0x23a050ef340>"
      ]
     },
     "execution_count": 81,
     "metadata": {},
     "output_type": "execute_result"
    }
   ],
   "source": [
    "mydoc.add_heading(heading[0].text, 0)"
   ]
  },
  {
   "cell_type": "code",
   "execution_count": 82,
   "id": "cea750bc",
   "metadata": {},
   "outputs": [
    {
     "data": {
      "text/plain": [
       "<docx.shape.InlineShape at 0x23a050ef580>"
      ]
     },
     "execution_count": 82,
     "metadata": {},
     "output_type": "execute_result"
    }
   ],
   "source": [
    "mydoc.add_picture(\"F:/task4_3_img.jpg\", width=docx.shared.Inches(4), height=docx.shared.Inches(5))"
   ]
  },
  {
   "cell_type": "code",
   "execution_count": 83,
   "id": "d917cec1",
   "metadata": {},
   "outputs": [
    {
     "data": {
      "text/plain": [
       "<docx.text.paragraph.Paragraph at 0x23a05090ca0>"
      ]
     },
     "execution_count": 83,
     "metadata": {},
     "output_type": "execute_result"
    }
   ],
   "source": [
    "mydoc.add_heading(\"Available Feature\", 1)"
   ]
  },
  {
   "cell_type": "code",
   "execution_count": 84,
   "id": "2ccc0495",
   "metadata": {},
   "outputs": [
    {
     "data": {
      "text/plain": [
       "<docx.text.paragraph.Paragraph at 0x23a050ef430>"
      ]
     },
     "execution_count": 84,
     "metadata": {},
     "output_type": "execute_result"
    }
   ],
   "source": [
    "mydoc.add_paragraph(available[0].text)\n",
    "mydoc.add_paragraph(available[1].text)\n",
    "mydoc.add_paragraph(available[2].text)\n",
    "mydoc.add_paragraph(available[3].text)"
   ]
  },
  {
   "cell_type": "code",
   "execution_count": 85,
   "id": "e7624c19",
   "metadata": {},
   "outputs": [
    {
     "data": {
      "text/plain": [
       "<docx.text.paragraph.Paragraph at 0x23a050ef8b0>"
      ]
     },
     "execution_count": 85,
     "metadata": {},
     "output_type": "execute_result"
    }
   ],
   "source": [
    "mydoc.add_heading(available[4].text, 1)"
   ]
  },
  {
   "cell_type": "code",
   "execution_count": 86,
   "id": "bd4954d2",
   "metadata": {},
   "outputs": [
    {
     "data": {
      "text/plain": [
       "<docx.text.paragraph.Paragraph at 0x23a050f56a0>"
      ]
     },
     "execution_count": 86,
     "metadata": {},
     "output_type": "execute_result"
    }
   ],
   "source": [
    "mydoc.add_paragraph(available[5].text)\n",
    "mydoc.add_paragraph(available[6].text)\n",
    "mydoc.add_paragraph(available[7].text)\n",
    "mydoc.add_paragraph(available[8].text)\n",
    "mydoc.add_paragraph(available[9].text)\n",
    "mydoc.add_paragraph(available[10].text)\n",
    "mydoc.add_paragraph(available[11].text)\n",
    "mydoc.add_paragraph(available[12].text)\n",
    "mydoc.add_paragraph(available[13].text)\n",
    "mydoc.add_paragraph(available[14].text)\n",
    "mydoc.add_paragraph(available[15].text)\n",
    "mydoc.add_paragraph(available[16].text)\n",
    "mydoc.add_paragraph(available[17].text)\n",
    "mydoc.add_paragraph(available[18].text)\n",
    "mydoc.add_paragraph(available[19].text)\n",
    "mydoc.add_paragraph(available[20].text)\n",
    "mydoc.add_paragraph(available[21].text)\n",
    "mydoc.add_paragraph(available[22].text)\n",
    "mydoc.add_paragraph(available[23].text)\n",
    "mydoc.add_paragraph(available[24].text)\n",
    "mydoc.add_paragraph(available[25].text)\n",
    "mydoc.add_paragraph(available[26].text)"
   ]
  },
  {
   "cell_type": "code",
   "execution_count": 87,
   "id": "131bd900",
   "metadata": {},
   "outputs": [
    {
     "data": {
      "text/plain": [
       "<docx.text.paragraph.Paragraph at 0x23a050f5a90>"
      ]
     },
     "execution_count": 87,
     "metadata": {},
     "output_type": "execute_result"
    }
   ],
   "source": [
    "mydoc.add_heading(available[27].text, 1)"
   ]
  },
  {
   "cell_type": "code",
   "execution_count": 88,
   "id": "5ab6edf7",
   "metadata": {},
   "outputs": [
    {
     "data": {
      "text/plain": [
       "<docx.text.paragraph.Paragraph at 0x23a050f5a60>"
      ]
     },
     "execution_count": 88,
     "metadata": {},
     "output_type": "execute_result"
    }
   ],
   "source": [
    "mydoc.add_paragraph(available[28].text)\n",
    "mydoc.add_paragraph(available[29].text)\n",
    "mydoc.add_paragraph(available[30].text)\n",
    "mydoc.add_paragraph(available[31].text)\n",
    "mydoc.add_paragraph(available[32].text)"
   ]
  },
  {
   "cell_type": "code",
   "execution_count": 89,
   "id": "70745431",
   "metadata": {},
   "outputs": [],
   "source": [
    "mydoc.save(\"F:/Yoshops/task_4/my_written_file.docx\")"
   ]
  },
  {
   "cell_type": "code",
   "execution_count": null,
   "id": "06a955f8",
   "metadata": {},
   "outputs": [],
   "source": []
  },
  {
   "cell_type": "code",
   "execution_count": null,
   "id": "91fff4f4",
   "metadata": {},
   "outputs": [],
   "source": []
  }
 ],
 "metadata": {
  "kernelspec": {
   "display_name": "Python 3 (ipykernel)",
   "language": "python",
   "name": "python3"
  },
  "language_info": {
   "codemirror_mode": {
    "name": "ipython",
    "version": 3
   },
   "file_extension": ".py",
   "mimetype": "text/x-python",
   "name": "python",
   "nbconvert_exporter": "python",
   "pygments_lexer": "ipython3",
   "version": "3.9.7"
  }
 },
 "nbformat": 4,
 "nbformat_minor": 5
}
