{
 "cells": [
  {
   "cell_type": "code",
   "execution_count": 1,
   "id": "69e11382",
   "metadata": {},
   "outputs": [],
   "source": [
    "#IMPORT LIBRARIES\n",
    "\n",
    "# import openpyxl module\n",
    "import openpyxl\n",
    "\n",
    "# import BarChart class from openpyxl.chart sub_module\n",
    "from openpyxl.chart import BarChart,BarChart3D,AreaChart,AreaChart3D,LineChart3D,Reference"
   ]
  },
  {
   "cell_type": "code",
   "execution_count": 2,
   "id": "6dd2c6fb",
   "metadata": {},
   "outputs": [],
   "source": [
    "# Call a Workbook() function of openpyxl \n",
    "# to create a new blank Workbook object\n",
    "wb = openpyxl.Workbook()\n",
    "  \n",
    "# Get workbook active sheet \n",
    "# from the active attribute.\n",
    "sheet = wb.active"
   ]
  },
  {
   "cell_type": "code",
   "execution_count": 3,
   "id": "24f2da45",
   "metadata": {},
   "outputs": [],
   "source": [
    "# write o to 9 in 1st column of the active sheet\n",
    "for i in range(10):\n",
    "    sheet.append([i])\n",
    "  \n",
    "values = Reference(sheet, min_col = 1, min_row = 1,\n",
    "                         max_col = 1, max_row = 10)"
   ]
  },
  {
   "cell_type": "code",
   "execution_count": 4,
   "id": "b56d2a97",
   "metadata": {},
   "outputs": [],
   "source": [
    "# Create object of BarChart class\n",
    "chart = BarChart()\n",
    "  \n",
    "# adding data to the Bar chart object\n",
    "chart.add_data(values)\n",
    "  \n",
    "# set the title of the chart\n",
    "chart.title = \" BAR-CHART \"\n",
    "  \n",
    "# set the title of the x-axis\n",
    "chart.x_axis.title = \" X_AXIS \"\n",
    "  \n",
    "# set the title of the y-axis\n",
    "chart.y_axis.title = \" Y_AXIS \"\n",
    "  \n",
    "# add chart to the sheet\n",
    "# the top-left corner of a chart\n",
    "# is anchored to cell E2 .\n",
    "sheet.add_chart(chart, \"E2\")\n",
    "  \n",
    "# save the file\n",
    "wb.save(\"F:\\Datasets\\MadeByJupyter\\BarChart.xlsx\")"
   ]
  },
  {
   "cell_type": "code",
   "execution_count": 5,
   "id": "84161188",
   "metadata": {},
   "outputs": [],
   "source": [
    "# Create object of BarChart3D class\n",
    "chart = BarChart3D()\n",
    "  \n",
    "chart.add_data(values)\n",
    "  \n",
    "# set the title of the chart\n",
    "chart.title = \" BAR-CHART3D \"\n",
    "  \n",
    "# set the title of the x-axis\n",
    "chart.x_axis.title = \" X AXIS \"\n",
    "  \n",
    "# set the title of the y-axis\n",
    "chart.y_axis.title = \" Y AXIS \"\n",
    "  \n",
    "# add chart to the sheet\n",
    "# the top-left corner of a chart\n",
    "# is anchored to cell E2.\n",
    "sheet.add_chart(chart, \"E2\")\n",
    "  \n",
    "# save the file\n",
    "wb.save(\"F:\\Datasets\\MadeByJupyter\\BarChart3D.xlsx\")"
   ]
  },
  {
   "cell_type": "code",
   "execution_count": 6,
   "id": "6c0affa7",
   "metadata": {},
   "outputs": [],
   "source": [
    "# create object of AreaChart class\n",
    "chart = AreaChart()\n",
    "  \n",
    "chart.add_data(values)\n",
    "  \n",
    "# set the title of the chart\n",
    "chart.title = \" AREA-CHART \"\n",
    "  \n",
    "# set the title of the x-axis\n",
    "chart.x_axis.title = \" X-AXIS \"\n",
    "  \n",
    "# set the title of the y-axis\n",
    "chart.y_axis.title = \" Y-AXIS \"\n",
    "  \n",
    "# add chart to the sheet\n",
    "# the top-left corner of a chart\n",
    "# is anchored to cell E2 .\n",
    "sheet.add_chart(chart, \"E2\")\n",
    "  \n",
    "# save the file\n",
    "wb.save(\"F:\\Datasets\\MadeByJupyter\\AreaChart.xlsx\")"
   ]
  },
  {
   "cell_type": "code",
   "execution_count": 7,
   "id": "9f955a3e",
   "metadata": {},
   "outputs": [],
   "source": [
    "# Create object of AreaChart3D class\n",
    "chart = AreaChart3D()\n",
    "  \n",
    "chart.add_data(values)\n",
    "  \n",
    "# set the title of the chart\n",
    "chart.title = \" AREA-CHART3D \"\n",
    "  \n",
    "# set the title of the x-axis\n",
    "chart.x_axis.title = \" X-AXIS \"\n",
    "  \n",
    "# set the title of the y-axis\n",
    "chart.y_axis.title = \" Y-AXIS \"\n",
    "  \n",
    "# add chart to the sheet\n",
    "# the top-left corner of a chart\n",
    "# is anchored to cell E2 .\n",
    "sheet.add_chart(chart, \"E2\")\n",
    "  \n",
    "# save the file\n",
    "wb.save(\"F:\\Datasets\\MadeByJupyter\\AreaChart3D.xlsx\")"
   ]
  },
  {
   "cell_type": "code",
   "execution_count": 8,
   "id": "3c6289ff",
   "metadata": {},
   "outputs": [],
   "source": [
    "# Create object of LineChart3D class\n",
    "chart = LineChart3D()\n",
    "  \n",
    "chart.add_data(values)\n",
    "  \n",
    "# set the title of the chart\n",
    "chart.title = \" LINE-CHART3D \"\n",
    "  \n",
    "  \n",
    "# set the title of the x-axis\n",
    "chart.x_axis.title = \" X-AXIS \"\n",
    "  \n",
    "# set the title of the y-axis\n",
    "chart.y_axis.title = \" Y-AXIS \"\n",
    "  \n",
    "# add chart to the sheet\n",
    "# the top-left corner of a chart\n",
    "# is anchored to cell E2 .\n",
    "sheet.add_chart(chart, \"E2\")\n",
    "  \n",
    "# save the file\n",
    "wb.save(\"F:\\Datasets\\MadeByJupyter\\LineChart3D.xlsx\")"
   ]
  }
 ],
 "metadata": {
  "kernelspec": {
   "display_name": "Python 3 (ipykernel)",
   "language": "python",
   "name": "python3"
  },
  "language_info": {
   "codemirror_mode": {
    "name": "ipython",
    "version": 3
   },
   "file_extension": ".py",
   "mimetype": "text/x-python",
   "name": "python",
   "nbconvert_exporter": "python",
   "pygments_lexer": "ipython3",
   "version": "3.9.7"
  }
 },
 "nbformat": 4,
 "nbformat_minor": 5
}
