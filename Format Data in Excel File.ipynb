{
 "cells": [
  {
   "cell_type": "code",
   "execution_count": 1,
   "id": "bba41887",
   "metadata": {},
   "outputs": [],
   "source": [
    "# IMPORT LIBRARIES\n",
    "import openpyxl\n",
    "from openpyxl import load_workbook"
   ]
  },
  {
   "cell_type": "code",
   "execution_count": 2,
   "id": "182ebfda",
   "metadata": {},
   "outputs": [],
   "source": [
    "# LOAD EXCEL SHEET IN workbook OBJECT\n",
    "workbook = load_workbook(filename=\"F:\\Datasets\\List.xlsx\")"
   ]
  },
  {
   "cell_type": "code",
   "execution_count": 3,
   "id": "f4c6b944",
   "metadata": {},
   "outputs": [
    {
     "name": "stdout",
     "output_type": "stream",
     "text": [
      "['Sheet1']\n"
     ]
    }
   ],
   "source": [
    "# TO GET SHEETS PRESENT IN THE WORKBOOK\n",
    "sheets = workbook.sheetnames\n",
    "print(sheets)"
   ]
  },
  {
   "cell_type": "code",
   "execution_count": 4,
   "id": "756c7526",
   "metadata": {},
   "outputs": [
    {
     "name": "stdout",
     "output_type": "stream",
     "text": [
      "Sheet1\n"
     ]
    }
   ],
   "source": [
    "# TO FIND CURRENT ACTIVE SHEET\n",
    "print(workbook.active.title)"
   ]
  },
  {
   "cell_type": "code",
   "execution_count": 5,
   "id": "6b2d8846",
   "metadata": {},
   "outputs": [],
   "source": [
    "# MODIFY CELL IN EXCEL AND SAVE IT IN JUPYTER NOTEBOOK FOLDER\n",
    "\n",
    "#open workbook\n",
    "sheet = workbook.active\n",
    " \n",
    "#modify the desired cell\n",
    "sheet[\"A1\"] = \"Name of Employee\"\n",
    " \n",
    "#save the file\n",
    "workbook.save(filename=\"F:\\Datasets\\List1.xlsx\")"
   ]
  }
 ],
 "metadata": {
  "kernelspec": {
   "display_name": "Python 3 (ipykernel)",
   "language": "python",
   "name": "python3"
  },
  "language_info": {
   "codemirror_mode": {
    "name": "ipython",
    "version": 3
   },
   "file_extension": ".py",
   "mimetype": "text/x-python",
   "name": "python",
   "nbconvert_exporter": "python",
   "pygments_lexer": "ipython3",
   "version": "3.9.7"
  }
 },
 "nbformat": 4,
 "nbformat_minor": 5
}
