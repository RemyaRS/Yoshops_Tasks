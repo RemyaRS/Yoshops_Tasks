{
 "cells": [
  {
   "cell_type": "code",
   "execution_count": 1,
   "id": "1fb777a0",
   "metadata": {},
   "outputs": [
    {
     "name": "stdout",
     "output_type": "stream",
     "text": [
      "Requirement already satisfied: xlsxwriter in c:\\users\\admin\\anaconda3\\lib\\site-packages (3.0.1)\n"
     ]
    }
   ],
   "source": [
    "# Installations\n",
    "!pip install xlsxwriter"
   ]
  },
  {
   "cell_type": "code",
   "execution_count": 2,
   "id": "9403798d",
   "metadata": {},
   "outputs": [],
   "source": [
    "# IMPORT LIBRARIES\n",
    "\n",
    "# import pandas to read excel sheet\n",
    "import pandas as pd\n",
    "\n",
    "# import xlsxwriter module\n",
    "import xlsxwriter"
   ]
  },
  {
   "cell_type": "code",
   "execution_count": 3,
   "id": "26540534",
   "metadata": {},
   "outputs": [],
   "source": [
    "# CREATING EXCEL FILE\n",
    "\n",
    "# which is the filename that we want to create.\n",
    "workbook = xlsxwriter.Workbook('Class.xlsx')\n",
    " \n",
    "# The workbook object is then used to add new\n",
    "# worksheet via the add_worksheet() method.\n",
    "worksheet = workbook.add_worksheet()\n",
    " \n",
    "# Use the worksheet object to write\n",
    "# data via the write() method.\n",
    "worksheet.write('A1', 'Name')\n",
    "worksheet.write('B1', 'Class')\n",
    "worksheet.write('C1', 'Division')\n",
    "worksheet.write('D1', 'Marks')\n",
    "\n",
    "worksheet.write('A2', 'Stephi')\n",
    "worksheet.write('B2', 'V')\n",
    "worksheet.write('C2', 'A')\n",
    "worksheet.write('D2', '78')\n",
    "\n",
    "worksheet.write('A3', 'Amartya')\n",
    "worksheet.write('B3', 'V')\n",
    "worksheet.write('C3', 'B')\n",
    "worksheet.write('D3', '96')\n",
    "\n",
    "worksheet.write('A4', 'Saptashri')\n",
    "worksheet.write('B4', 'V')\n",
    "worksheet.write('C4', 'A')\n",
    "worksheet.write('D4', '89')\n",
    "\n",
    "worksheet.write('A5', 'Ismail')\n",
    "worksheet.write('B5', 'V')\n",
    "worksheet.write('C5', 'C')\n",
    "worksheet.write('D5', '96')\n",
    " \n",
    "# Finally, close the Excel file\n",
    "# via the close() method.\n",
    "workbook.close()"
   ]
  },
  {
   "cell_type": "code",
   "execution_count": 4,
   "id": "6f638236",
   "metadata": {},
   "outputs": [],
   "source": [
    "# READ THE EXCEL FILE\n",
    "file = pd.read_excel('Class.xlsx')"
   ]
  },
  {
   "cell_type": "code",
   "execution_count": 5,
   "id": "bb9fc5bb",
   "metadata": {},
   "outputs": [
    {
     "data": {
      "text/html": [
       "<div>\n",
       "<style scoped>\n",
       "    .dataframe tbody tr th:only-of-type {\n",
       "        vertical-align: middle;\n",
       "    }\n",
       "\n",
       "    .dataframe tbody tr th {\n",
       "        vertical-align: top;\n",
       "    }\n",
       "\n",
       "    .dataframe thead th {\n",
       "        text-align: right;\n",
       "    }\n",
       "</style>\n",
       "<table border=\"1\" class=\"dataframe\">\n",
       "  <thead>\n",
       "    <tr style=\"text-align: right;\">\n",
       "      <th></th>\n",
       "      <th>Name</th>\n",
       "      <th>Class</th>\n",
       "      <th>Division</th>\n",
       "      <th>Marks</th>\n",
       "    </tr>\n",
       "  </thead>\n",
       "  <tbody>\n",
       "    <tr>\n",
       "      <th>0</th>\n",
       "      <td>Stephi</td>\n",
       "      <td>V</td>\n",
       "      <td>A</td>\n",
       "      <td>78</td>\n",
       "    </tr>\n",
       "    <tr>\n",
       "      <th>1</th>\n",
       "      <td>Amartya</td>\n",
       "      <td>V</td>\n",
       "      <td>B</td>\n",
       "      <td>96</td>\n",
       "    </tr>\n",
       "    <tr>\n",
       "      <th>2</th>\n",
       "      <td>Saptashri</td>\n",
       "      <td>V</td>\n",
       "      <td>A</td>\n",
       "      <td>89</td>\n",
       "    </tr>\n",
       "    <tr>\n",
       "      <th>3</th>\n",
       "      <td>Ismail</td>\n",
       "      <td>V</td>\n",
       "      <td>C</td>\n",
       "      <td>96</td>\n",
       "    </tr>\n",
       "  </tbody>\n",
       "</table>\n",
       "</div>"
      ],
      "text/plain": [
       "        Name Class Division  Marks\n",
       "0     Stephi     V        A     78\n",
       "1    Amartya     V        B     96\n",
       "2  Saptashri     V        A     89\n",
       "3     Ismail     V        C     96"
      ]
     },
     "execution_count": 5,
     "metadata": {},
     "output_type": "execute_result"
    }
   ],
   "source": [
    "# EXCEL FILE \n",
    "file.head()"
   ]
  }
 ],
 "metadata": {
  "kernelspec": {
   "display_name": "Python 3 (ipykernel)",
   "language": "python",
   "name": "python3"
  },
  "language_info": {
   "codemirror_mode": {
    "name": "ipython",
    "version": 3
   },
   "file_extension": ".py",
   "mimetype": "text/x-python",
   "name": "python",
   "nbconvert_exporter": "python",
   "pygments_lexer": "ipython3",
   "version": "3.9.7"
  }
 },
 "nbformat": 4,
 "nbformat_minor": 5
}
