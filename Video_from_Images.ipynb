{
 "cells": [
  {
   "cell_type": "code",
   "execution_count": 8,
   "id": "d29600b8",
   "metadata": {},
   "outputs": [],
   "source": [
    "import os\n",
    "import cv2"
   ]
  },
  {
   "cell_type": "code",
   "execution_count": 13,
   "id": "ef764fe3",
   "metadata": {},
   "outputs": [],
   "source": [
    "import numpy as np\n",
    "# numpy perform a number of mathematical operations on arrays such as trigonometric, statistical, and algebraic routines\n",
    "\n",
    "import pandas as pd\n",
    "# pandas is used to analyze data\n",
    "\n",
    "import requests\n",
    "# requests module allows you to send HTTP requests using Python\n",
    "\n",
    "from bs4 import BeautifulSoup\n",
    "# Beautiful Soup is a library that makes it easy to scrape information from web pages\n",
    "# BeautifulSoup's current version bs4, is a web scraping library\n",
    "\n",
    "from time import sleep\n",
    "#The sleep() function suspends execution of the current thread for a given number of seconds\n",
    "\n",
    "from random import randint\n",
    "#The randint Python function is a built-in method that lets you generate random integers using the random module\n",
    "\n",
    "\n",
    "# Importing the PIL library\n",
    "from PIL import Image,ImageFont, ImageDraw\n",
    "import requests\n",
    "from bs4 import BeautifulSoup as soup\n",
    "from urllib.request import urlopen as uReq"
   ]
  },
  {
   "cell_type": "markdown",
   "id": "0a416bbf",
   "metadata": {},
   "source": [
    "# Extracting Images From Yoshops Site"
   ]
  },
  {
   "cell_type": "code",
   "execution_count": 10,
   "id": "18e53e94",
   "metadata": {},
   "outputs": [],
   "source": [
    "video_url = \"https://yoshops.com/products?keywords=data+science\"\n",
    "video_uClient = uReq(video_url)\n",
    "video_page_html = video_uClient.read()\n",
    "video_uClient.close()\n",
    "video_page_soup = soup(video_page_html,\"html.parser\")"
   ]
  },
  {
   "cell_type": "code",
   "execution_count": 11,
   "id": "30e25658",
   "metadata": {},
   "outputs": [],
   "source": [
    "video_containers = video_page_soup.findAll(\"div\", {\"class\":\"col-sm-3 col-xs-6\"})"
   ]
  },
  {
   "cell_type": "code",
   "execution_count": 23,
   "id": "94a1a322",
   "metadata": {},
   "outputs": [],
   "source": [
    "video_container =  video_containers[0]\n",
    "image1_link_video = video_container.img['src']\n",
    "im1 = Image.open(requests.get(image1_link_video, stream=True).raw)\n",
    "im1.save(\"F:/Yoshops/task_4/images/task4_img1_video.webp\")"
   ]
  },
  {
   "cell_type": "code",
   "execution_count": 24,
   "id": "0982f8d6",
   "metadata": {},
   "outputs": [],
   "source": [
    "video_container =  video_containers[1]\n",
    "image2_link_video = video_container.img['src']\n",
    "im2 = Image.open(requests.get(image2_link_video, stream=True).raw)\n",
    "im2.save(\"F:/Yoshops/task_4/images/task4_img2_video.webp\")"
   ]
  },
  {
   "cell_type": "markdown",
   "id": "718fac3d",
   "metadata": {},
   "source": [
    "# Making Video From Images "
   ]
  },
  {
   "cell_type": "code",
   "execution_count": 25,
   "id": "b1bb75b5",
   "metadata": {},
   "outputs": [],
   "source": [
    " \n",
    "width = 1280\n",
    "hieght = 720\n",
    "channel = 3\n",
    " \n",
    "fps = 1\n",
    "sec = 20\n",
    " \n",
    "fourcc = cv2.VideoWriter_fourcc(*'MP42')\n",
    " \n",
    "video = cv2.VideoWriter('image_to_video.avi', fourcc, float(fps), (width, hieght))\n",
    " \n",
    "directry = r'F:\\Yoshops\\task_4\\images'\n",
    " \n",
    "img_name_list = os.listdir(directry)\n",
    " \n",
    "for frame_count in range(fps*sec):\n",
    "    \n",
    "    img_name = np.random.choice(img_name_list)\n",
    "    img_path = os.path.join(directry, img_name)\n",
    "    img = cv2.imread(img_path)\n",
    "    img_resize = cv2.resize(img, (width, hieght))\n",
    "     \n",
    "    video.write(img_resize)\n",
    "     \n",
    "video.release()"
   ]
  }
 ],
 "metadata": {
  "kernelspec": {
   "display_name": "Python 3 (ipykernel)",
   "language": "python",
   "name": "python3"
  },
  "language_info": {
   "codemirror_mode": {
    "name": "ipython",
    "version": 3
   },
   "file_extension": ".py",
   "mimetype": "text/x-python",
   "name": "python",
   "nbconvert_exporter": "python",
   "pygments_lexer": "ipython3",
   "version": "3.9.7"
  }
 },
 "nbformat": 4,
 "nbformat_minor": 5
}
