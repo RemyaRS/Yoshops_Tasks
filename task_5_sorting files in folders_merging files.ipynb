{
 "cells": [
  {
   "cell_type": "markdown",
   "id": "9c7ea4b3",
   "metadata": {},
   "source": [
    "# Tasks\n",
    "1.Write a python programm for merge two excel file data to one file\n",
    "\n",
    "Write a python programm to shorting file in different folder means main folder containing 40 word file. Now after shorting create 4 child folder and store 10 file each folder.\n",
    "\n",
    "2.Write a python programm separate duplicate file. Check with mobile number in main excel file and test data doc and if it is same or equal create sperate file and store duplicate file data\n",
    "\n",
    "3.Write a python programm for Shorting file by keywords. input: folder path = text value Create new folder=text value Search Keyword= text value Output: Creat folder with input value and inside folder all shorting files displaying."
   ]
  },
  {
   "cell_type": "markdown",
   "id": "c68ffe6a",
   "metadata": {},
   "source": [
    "# Write a python programm for merge two excel file data to one file"
   ]
  },
  {
   "cell_type": "code",
   "execution_count": 2,
   "id": "212fd23a",
   "metadata": {},
   "outputs": [
    {
     "name": "stdout",
     "output_type": "stream",
     "text": [
      "excel sheet 1 :\n",
      "   ID   Name  Marks Date of Joining\n",
      "0   1  Ajima     60       23/9/2020\n",
      "1   2  Ankur     89       23/9/2020\n",
      "2   3  Kunal     57       23/9/2020\n",
      "3   4    Sri     65       23/9/2020\n",
      "excel sheet 2 :\n",
      "  Section   Skill Level\n",
      "0       A          Java\n",
      "1       A        Python\n",
      "2       B  Data Science\n",
      "3       B  Data Analyst\n",
      "merged excel sheet :\n",
      "   ID   Name  Marks Date of Joining Section   Skill Level\n",
      "0   1  Ajima     60       23/9/2020       A          Java\n",
      "1   2  Ankur     89       23/9/2020       A        Python\n",
      "2   3  Kunal     57       23/9/2020       B  Data Science\n",
      "3   4    Sri     65       23/9/2020       B  Data Analyst\n"
     ]
    }
   ],
   "source": [
    "import pandas as pd\n",
    "df_1 = pd.read_excel('F:/Yoshops/task_5/task_1/List.xlsx')\n",
    "df_2 = pd.read_excel('F:/Yoshops/task_5/task_1/List1.xlsx') \n",
    "df=pd.concat([df_1, df_2], axis=1)\n",
    "print(\"excel sheet 1 :\")\n",
    "print(df_1)\n",
    "print(\"excel sheet 2 :\")\n",
    "print(df_2)\n",
    "print(\"merged excel sheet :\")\n",
    "print(df)"
   ]
  },
  {
   "cell_type": "markdown",
   "id": "98e16125",
   "metadata": {},
   "source": [
    "# Write a python programm to sorting file in different folder means main folder containing 40 word file. Now after sorting create 4 child folder and store 10 file each folder."
   ]
  },
  {
   "cell_type": "code",
   "execution_count": 3,
   "id": "bdbfe0c0",
   "metadata": {},
   "outputs": [
    {
     "name": "stdout",
     "output_type": "stream",
     "text": [
      "F:\\Yoshops\\task_5\\task_2\\folder\\\n",
      "[]\n",
      "F:\\Yoshops\\task_5\\task_2\\folder\\f1\n",
      "['aa.DOCX', 'ab.DOCX', 'dk.DOCX', 'ds.DOCX', 'du.DOCX', 'hi.DOCX']\n",
      "F:\\Yoshops\\task_5\\task_2\\folder\\f2\n",
      "['jk.DOCX', 'ke.DOCX', 'qs.DOCX', 'ut.DOCX', 'uy.DOCX', 'vf.DOCX', 'zu.DOCX']\n",
      "F:\\Yoshops\\task_5\\task_2\\folder\\f3\n",
      "['an.DOCX', 'ap.DOCX', 'baz.DOCX', 'be.DOCX', 'bj.DOCX']\n",
      "F:\\Yoshops\\task_5\\task_2\\folder\\f4\n",
      "['lk.DOCX', 'ms.DOCX', 'nd.DOCX', 'nj.DOCX', 'nt.DOCX', 'oe.DOCX', 'op.DOCX', 'pj.DOCX']\n",
      "F:\\Yoshops\\task_5\\task_2\\folder\\f5\n",
      "['ki.DOCX', 'lo.DOCX', 'lp.DOCX', 'mk.DOCX', 'ml.DOCX', 'nju.DOCX', 'nw.DOCX']\n",
      "F:\\Yoshops\\task_5\\task_2\\folder\\f6\n",
      "['ax.DOCX', 'az.DOCX', 'baa.DOCX', 'bav.DOCX', 'bb.DOCX']\n",
      "F:\\Yoshops\\task_5\\task_2\\folder\\f7\n",
      "['js.DOCX', 'pw.DOCX']\n"
     ]
    }
   ],
   "source": [
    "import os\n",
    "import shutil\n",
    "\n",
    "target_folder = r'F:\\Yoshops\\task_5\\task_2\\master'+'\\\\'\n",
    "source_folder = r'F:\\Yoshops\\task_5\\task_2\\folder'+'\\\\'\n",
    "\n",
    "for path,dir,files in os.walk(source_folder):\n",
    "    print(path)\n",
    "    print(files)"
   ]
  },
  {
   "cell_type": "code",
   "execution_count": 4,
   "id": "622e3dfc",
   "metadata": {},
   "outputs": [],
   "source": [
    "for path,dir,files in os.walk(source_folder):\n",
    "    if files:\n",
    "        for file in files:\n",
    "            if not os.path.isfile(target_folder + file):\n",
    "                os.rename(path + '\\\\' + file, target_folder + file)"
   ]
  },
  {
   "cell_type": "code",
   "execution_count": 5,
   "id": "c0f8ba0b",
   "metadata": {},
   "outputs": [
    {
     "name": "stdout",
     "output_type": "stream",
     "text": [
      "F:\\Yoshops\\task_5\\task_2\\master\\\n",
      "['aa.DOCX', 'ab.DOCX', 'an.DOCX', 'ap.DOCX', 'ax.DOCX', 'az.DOCX', 'baa.DOCX', 'bav.DOCX', 'baz.DOCX', 'bb.DOCX', 'be.DOCX', 'bj.DOCX', 'dk.DOCX', 'ds.DOCX', 'du.DOCX', 'hi.DOCX', 'jk.DOCX', 'js.DOCX', 'ke.DOCX', 'ki.DOCX', 'lk.DOCX', 'lo.DOCX', 'lp.DOCX', 'mk.DOCX', 'ml.DOCX', 'ms.DOCX', 'nd.DOCX', 'nj.DOCX', 'nju.DOCX', 'nt.DOCX', 'nw.DOCX', 'oe.DOCX', 'op.DOCX', 'pj.DOCX', 'pw.DOCX', 'qs.DOCX', 'ut.DOCX', 'uy.DOCX', 'vf.DOCX', 'zu.DOCX']\n"
     ]
    }
   ],
   "source": [
    "for path,dir,files in os.walk(target_folder):\n",
    "    print(path)\n",
    "    print(files)"
   ]
  },
  {
   "cell_type": "code",
   "execution_count": 6,
   "id": "24499d83",
   "metadata": {},
   "outputs": [
    {
     "name": "stdout",
     "output_type": "stream",
     "text": [
      "aa.DOCX\n",
      "ab.DOCX\n",
      "an.DOCX\n",
      "ap.DOCX\n",
      "ax.DOCX\n",
      "az.DOCX\n",
      "baa.DOCX\n",
      "bav.DOCX\n",
      "baz.DOCX\n",
      "bb.DOCX\n",
      "be.DOCX\n",
      "bj.DOCX\n",
      "dk.DOCX\n",
      "ds.DOCX\n",
      "du.DOCX\n",
      "hi.DOCX\n",
      "jk.DOCX\n",
      "js.DOCX\n",
      "ke.DOCX\n",
      "ki.DOCX\n",
      "lk.DOCX\n",
      "lo.DOCX\n",
      "lp.DOCX\n",
      "mk.DOCX\n",
      "ml.DOCX\n",
      "ms.DOCX\n",
      "nd.DOCX\n",
      "nj.DOCX\n",
      "nju.DOCX\n",
      "nt.DOCX\n",
      "nw.DOCX\n",
      "oe.DOCX\n",
      "op.DOCX\n",
      "pj.DOCX\n",
      "pw.DOCX\n",
      "qs.DOCX\n",
      "ut.DOCX\n",
      "uy.DOCX\n",
      "vf.DOCX\n",
      "zu.DOCX\n"
     ]
    }
   ],
   "source": [
    "import os\n",
    "dir_name = 'F:/Yoshops/task_5/task_2/master/'\n",
    "# Get list of all files in a given directory sorted by name\n",
    "list_of_files = sorted( filter( lambda x: os.path.isfile(os.path.join(dir_name, x)),\n",
    "                        os.listdir(dir_name) ) )\n",
    "for file_name in list_of_files:\n",
    "    print(file_name)"
   ]
  },
  {
   "cell_type": "code",
   "execution_count": 7,
   "id": "974fc427",
   "metadata": {},
   "outputs": [],
   "source": [
    "import os\n",
    "path = 'F:/Yoshops/task_5/task_2/sorted/'\n",
    "for i in range(0,4):\n",
    "    os.chdir(path)\n",
    "    Newfolders = 'SubFolder'+str(i)\n",
    "    os.makedirs(Newfolders)"
   ]
  },
  {
   "cell_type": "code",
   "execution_count": 8,
   "id": "7729752f",
   "metadata": {},
   "outputs": [],
   "source": [
    "i=0\n",
    "j=0\n",
    "k=0\n",
    "for i in range(0,4):\n",
    "    for j in range(0,10):\n",
    "        src = 'F:/Yoshops/task_5/task_2/master/'+list_of_files[k]\n",
    "        dst = 'F:/Yoshops/task_5/task_2/sorted/Subfolder'+str(i)\n",
    "        shutil.copy2(src,dst)\n",
    "        k=k+1"
   ]
  },
  {
   "cell_type": "markdown",
   "id": "f22d6201",
   "metadata": {},
   "source": [
    "# Write a python programm separate duplicate file"
   ]
  },
  {
   "cell_type": "code",
   "execution_count": 9,
   "id": "f65a8e68",
   "metadata": {},
   "outputs": [
    {
     "name": "stdout",
     "output_type": "stream",
     "text": [
      "[['A - Copy.DOCX', 'A.DOCX'], ['B - Copy.DOCX', 'B.DOCX'], ['C - Copy.DOCX', 'C.DOCX'], ['D.DOCX'], ['E.DOCX']]\n"
     ]
    }
   ],
   "source": [
    "# Importing Libraries\n",
    "import os\n",
    "from pathlib import Path\n",
    "from filecmp import cmp\n",
    "  \n",
    "  \n",
    "# list of all documents\n",
    "DATA_DIR = Path('F:/Yoshops/task_5/task_3')\n",
    "files = sorted(os.listdir(DATA_DIR))\n",
    "  \n",
    "# List having the classes of documents\n",
    "# with the same content\n",
    "duplicateFiles = []\n",
    "  \n",
    "# comparison of the documents\n",
    "for file_x in files:\n",
    "  \n",
    "    if_dupl = False\n",
    "  \n",
    "    for class_ in duplicateFiles:\n",
    "        # Comparing files having same content using cmp()\n",
    "        # class_[0] represents a class having same content\n",
    "        if_dupl = cmp(\n",
    "            DATA_DIR / file_x,\n",
    "            DATA_DIR / class_[0],\n",
    "            shallow=False\n",
    "        )\n",
    "        if if_dupl:\n",
    "            class_.append(file_x)\n",
    "            break\n",
    "  \n",
    "    if not if_dupl:\n",
    "        duplicateFiles.append([file_x])\n",
    "  \n",
    "# Print results\n",
    "print(duplicateFiles)"
   ]
  },
  {
   "cell_type": "markdown",
   "id": "9d3955f4",
   "metadata": {},
   "source": [
    "# Check excel file and create sperate file and store duplicate data"
   ]
  },
  {
   "cell_type": "code",
   "execution_count": 12,
   "id": "8ff6634f",
   "metadata": {},
   "outputs": [
    {
     "name": "stdout",
     "output_type": "stream",
     "text": [
      "      Name  Age      City  Mobile Number\n",
      "0    Stuti   28  Varanasi     8789956456\n",
      "1   Saumya   32     Delhi     8790006456\n",
      "2  Aaditya   25    Mumbai     8789956890\n",
      "3   Saumya   32     Delhi     9489956456\n",
      "4   Saumya   32     Delhi     9489956456\n",
      "5   Saumya   32    Mumbai     8989956456\n",
      "6  Aaditya   40  Dehradun     9490956456\n",
      "7  Aaditya   40  Dehradun     9490956456\n",
      "8    Seema   32     Delhi     8489956456\n"
     ]
    }
   ],
   "source": [
    "import pandas as pd\n",
    "df_master = pd.read_excel('F:/Yoshops/task_5/task_4/master-excel.xlsx')\n",
    "print(df_master)"
   ]
  },
  {
   "cell_type": "code",
   "execution_count": 13,
   "id": "b3b14efc",
   "metadata": {},
   "outputs": [
    {
     "name": "stdout",
     "output_type": "stream",
     "text": [
      "Duplicate Rows :\n"
     ]
    },
    {
     "data": {
      "text/html": [
       "<div>\n",
       "<style scoped>\n",
       "    .dataframe tbody tr th:only-of-type {\n",
       "        vertical-align: middle;\n",
       "    }\n",
       "\n",
       "    .dataframe tbody tr th {\n",
       "        vertical-align: top;\n",
       "    }\n",
       "\n",
       "    .dataframe thead th {\n",
       "        text-align: right;\n",
       "    }\n",
       "</style>\n",
       "<table border=\"1\" class=\"dataframe\">\n",
       "  <thead>\n",
       "    <tr style=\"text-align: right;\">\n",
       "      <th></th>\n",
       "      <th>Name</th>\n",
       "      <th>Age</th>\n",
       "      <th>City</th>\n",
       "      <th>Mobile Number</th>\n",
       "    </tr>\n",
       "  </thead>\n",
       "  <tbody>\n",
       "    <tr>\n",
       "      <th>4</th>\n",
       "      <td>Saumya</td>\n",
       "      <td>32</td>\n",
       "      <td>Delhi</td>\n",
       "      <td>9489956456</td>\n",
       "    </tr>\n",
       "    <tr>\n",
       "      <th>7</th>\n",
       "      <td>Aaditya</td>\n",
       "      <td>40</td>\n",
       "      <td>Dehradun</td>\n",
       "      <td>9490956456</td>\n",
       "    </tr>\n",
       "  </tbody>\n",
       "</table>\n",
       "</div>"
      ],
      "text/plain": [
       "      Name  Age      City  Mobile Number\n",
       "4   Saumya   32     Delhi     9489956456\n",
       "7  Aaditya   40  Dehradun     9490956456"
      ]
     },
     "execution_count": 13,
     "metadata": {},
     "output_type": "execute_result"
    }
   ],
   "source": [
    "# Selecting duplicate rows except first\n",
    "# occurrence based on all columns\n",
    "duplicate = df_master[df_master.duplicated()]\n",
    " \n",
    "print(\"Duplicate Rows :\")\n",
    " \n",
    "# Print the resultant Dataframe\n",
    "duplicate"
   ]
  },
  {
   "cell_type": "code",
   "execution_count": 1,
   "id": "2763ae17",
   "metadata": {},
   "outputs": [],
   "source": [
    "#pip install openpyxl"
   ]
  },
  {
   "cell_type": "code",
   "execution_count": 15,
   "id": "1bed04f7",
   "metadata": {},
   "outputs": [],
   "source": [
    "# creating excel writer object\n",
    "writer_duplicate = pd.ExcelWriter('duplicate-excel.xlsx')\n",
    "# write dataframe to excel\n",
    " \n",
    "duplicate.to_excel(writer_duplicate)\n",
    " \n",
    "# save the excel\n",
    "writer_duplicate.save()"
   ]
  },
  {
   "cell_type": "code",
   "execution_count": 16,
   "id": "bf2812ec",
   "metadata": {},
   "outputs": [
    {
     "name": "stdout",
     "output_type": "stream",
     "text": [
      "New Dataframe After Removes Duplicate Rows :\n"
     ]
    },
    {
     "data": {
      "text/html": [
       "<div>\n",
       "<style scoped>\n",
       "    .dataframe tbody tr th:only-of-type {\n",
       "        vertical-align: middle;\n",
       "    }\n",
       "\n",
       "    .dataframe tbody tr th {\n",
       "        vertical-align: top;\n",
       "    }\n",
       "\n",
       "    .dataframe thead th {\n",
       "        text-align: right;\n",
       "    }\n",
       "</style>\n",
       "<table border=\"1\" class=\"dataframe\">\n",
       "  <thead>\n",
       "    <tr style=\"text-align: right;\">\n",
       "      <th></th>\n",
       "      <th>Name</th>\n",
       "      <th>Age</th>\n",
       "      <th>City</th>\n",
       "      <th>Mobile Number</th>\n",
       "    </tr>\n",
       "  </thead>\n",
       "  <tbody>\n",
       "    <tr>\n",
       "      <th>0</th>\n",
       "      <td>Stuti</td>\n",
       "      <td>28</td>\n",
       "      <td>Varanasi</td>\n",
       "      <td>8789956456</td>\n",
       "    </tr>\n",
       "    <tr>\n",
       "      <th>1</th>\n",
       "      <td>Saumya</td>\n",
       "      <td>32</td>\n",
       "      <td>Delhi</td>\n",
       "      <td>8790006456</td>\n",
       "    </tr>\n",
       "    <tr>\n",
       "      <th>2</th>\n",
       "      <td>Aaditya</td>\n",
       "      <td>25</td>\n",
       "      <td>Mumbai</td>\n",
       "      <td>8789956890</td>\n",
       "    </tr>\n",
       "    <tr>\n",
       "      <th>3</th>\n",
       "      <td>Saumya</td>\n",
       "      <td>32</td>\n",
       "      <td>Delhi</td>\n",
       "      <td>9489956456</td>\n",
       "    </tr>\n",
       "    <tr>\n",
       "      <th>5</th>\n",
       "      <td>Saumya</td>\n",
       "      <td>32</td>\n",
       "      <td>Mumbai</td>\n",
       "      <td>8989956456</td>\n",
       "    </tr>\n",
       "    <tr>\n",
       "      <th>6</th>\n",
       "      <td>Aaditya</td>\n",
       "      <td>40</td>\n",
       "      <td>Dehradun</td>\n",
       "      <td>9490956456</td>\n",
       "    </tr>\n",
       "    <tr>\n",
       "      <th>8</th>\n",
       "      <td>Seema</td>\n",
       "      <td>32</td>\n",
       "      <td>Delhi</td>\n",
       "      <td>8489956456</td>\n",
       "    </tr>\n",
       "  </tbody>\n",
       "</table>\n",
       "</div>"
      ],
      "text/plain": [
       "      Name  Age      City  Mobile Number\n",
       "0    Stuti   28  Varanasi     8789956456\n",
       "1   Saumya   32     Delhi     8790006456\n",
       "2  Aaditya   25    Mumbai     8789956890\n",
       "3   Saumya   32     Delhi     9489956456\n",
       "5   Saumya   32    Mumbai     8989956456\n",
       "6  Aaditya   40  Dehradun     9490956456\n",
       "8    Seema   32     Delhi     8489956456"
      ]
     },
     "execution_count": 16,
     "metadata": {},
     "output_type": "execute_result"
    }
   ],
   "source": [
    "df_no_duplicates = df_master.drop_duplicates()\n",
    "print(\"New Dataframe After Removes Duplicate Rows :\")\n",
    " \n",
    "# Print the resultant Dataframe\n",
    "df_no_duplicates"
   ]
  },
  {
   "cell_type": "code",
   "execution_count": 17,
   "id": "62c4c67e",
   "metadata": {},
   "outputs": [],
   "source": [
    "# creating excel writer object\n",
    "writer_no_duplicate = pd.ExcelWriter('no-duplicate-excel.xlsx')\n",
    "# write dataframe to excel\n",
    " \n",
    "df_no_duplicates.to_excel(writer_no_duplicate)\n",
    " \n",
    "# save the excel\n",
    "writer_no_duplicate.save()"
   ]
  },
  {
   "cell_type": "markdown",
   "id": "2ae3db73",
   "metadata": {},
   "source": [
    "# Sort files in a folder based on their size"
   ]
  },
  {
   "cell_type": "code",
   "execution_count": 19,
   "id": "85154aba",
   "metadata": {},
   "outputs": [
    {
     "name": "stdout",
     "output_type": "stream",
     "text": [
      "(18987, 'Differentiated Brand 3rd April.docx')\n",
      "(28018, 'Iron Lady Program Graduation Report REMYA RS.docx')\n",
      "(85956, 'Aspiration list.docx')\n",
      "(165868, 'Joyita Mondal.docx')\n",
      "(957778, 'Padmashri Sangkhumi Bualchhuak.docx')\n"
     ]
    }
   ],
   "source": [
    "import os\n",
    "import shutil\n",
    "# The folder containing files.\n",
    "directory = 'F:/Yoshops/task_5/task_5/source'\n",
    "\n",
    "# Get all files.\n",
    "list = os.listdir(directory)\n",
    "\n",
    "# Loop and add files to list.\n",
    "pairs = []\n",
    "for file in list:\n",
    "\n",
    "    # Use join to get full file path.\n",
    "    location = os.path.join(directory, file)\n",
    "\n",
    "    # Get size and add to list of tuples.\n",
    "    size = os.path.getsize(location)\n",
    "    pairs.append((size,file))\n",
    "\n",
    "# Sort list of tuples by the first element, size.\n",
    "pairs.sort(key=lambda s: s[0])\n",
    "\n",
    "i=0\n",
    "# Display pairs.\n",
    "for pair in pairs:\n",
    "    #src = 'F:/Yoshops/task_5/task_5/source/'+pair[1]\n",
    "    #dst = 'F:/Yoshops/task_5/task_5/destination/size'+str(i)\n",
    "    #shutil.copy2(src,dst)\n",
    "    \n",
    "    print(pair)\n",
    "    i=i+1\n",
    "\n",
    "path = 'F:/Yoshops/task_5/task_5/destination/'\n",
    "for j in range(0,i):\n",
    "    os.chdir(path)\n",
    "    Newfolders = 'size'+str(j)\n",
    "    os.makedirs(Newfolders)\n",
    "\n",
    "\n",
    "\n",
    "    "
   ]
  },
  {
   "cell_type": "code",
   "execution_count": 20,
   "id": "ea7aecf1",
   "metadata": {},
   "outputs": [],
   "source": [
    "i=0\n",
    "# Display pairs.\n",
    "for pair in pairs:\n",
    "    src = 'F:/Yoshops/task_5/task_5/source/'+pair[1]\n",
    "    dst = 'F:/Yoshops/task_5/task_5/destination/size'+str(i)\n",
    "    shutil.copy2(src,dst)\n",
    "    i=i+1"
   ]
  },
  {
   "cell_type": "code",
   "execution_count": null,
   "id": "c23ade3d",
   "metadata": {},
   "outputs": [],
   "source": []
  }
 ],
 "metadata": {
  "kernelspec": {
   "display_name": "Python 3 (ipykernel)",
   "language": "python",
   "name": "python3"
  },
  "language_info": {
   "codemirror_mode": {
    "name": "ipython",
    "version": 3
   },
   "file_extension": ".py",
   "mimetype": "text/x-python",
   "name": "python",
   "nbconvert_exporter": "python",
   "pygments_lexer": "ipython3",
   "version": "3.9.7"
  }
 },
 "nbformat": 4,
 "nbformat_minor": 5
}
